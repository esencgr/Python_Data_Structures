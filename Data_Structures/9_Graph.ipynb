{
 "cells": [
  {
   "cell_type": "markdown",
   "metadata": {},
   "source": [
    "## **GRAPH**"
   ]
  },
  {
   "cell_type": "markdown",
   "metadata": {},
   "source": [
    "### ***Basic Theory of Graph*** "
   ]
  },
  {
   "cell_type": "markdown",
   "metadata": {},
   "source": [
    "***#1 UNDIRECTED GRAPH***\n",
    "\n",
    "![](images1/g2.png)\n",
    "\n",
    "* This facebook connection figure is shows a grah structure.\n",
    "* And called as undirected graph because, there is no directions between two nodes.\n",
    "* Each entities are called nodes and connects that between are called edge.\n",
    "\n",
    "![](images1/g3.png)\n",
    "\n",
    "* One of the utility of graph structure is facebook friend suggestion."
   ]
  },
  {
   "cell_type": "markdown",
   "metadata": {},
   "source": [
    "***#2 DIRECTED GRAPH***\n",
    "\n",
    "![](images1/g4.png)\n",
    "\n",
    "* Another example of graph is flight routes.\n",
    "* Called as directed graph beacuse there is a direction between nodes.\n",
    "\n",
    "![](images1/g5.png)\n",
    "\n",
    "* One of the utility of graph structure is finding the route two nodes (for ex cities).\n",
    "   * Find out the shortest route.\n",
    "   * All possible routes between the two cities.\n",
    "   \n",
    "**Example : Mumbai - New York ?**\n",
    "![](images1/G5.png)\n",
    "\n",
    "   "
   ]
  },
  {
   "cell_type": "markdown",
   "metadata": {},
   "source": [
    "***#3 WEIGHTED GRAPH***\n",
    "\n",
    "![](images1/g6.png)\n",
    "\n",
    "* There could be type of a graph where the edges are weighted.\n",
    "\n",
    "* And this weight in the case of the flight route example will be the distance between the two cities.\n",
    "\n",
    "**Example : Mumbai - New York ?**\n",
    "\n",
    "![](images1/g8.png)\n",
    "\n",
    "* The shortest path based on a distance  in this case, has 4 nodes but sum of this weights are the lesser than the others. Total distance of travelled minimum value in this path."
   ]
  },
  {
   "cell_type": "markdown",
   "metadata": {},
   "source": [
    "***How is Graph Different than a Tree?***\n",
    "\n",
    "* In tree should be only one path between two nodes.\n",
    "\n",
    "* In grap has randomly connect any two nodes.\n",
    "\n",
    "* So then tree can be thought of as a special type of graph "
   ]
  },
  {
   "cell_type": "markdown",
   "metadata": {},
   "source": [
    "### ***GRAPH IMPLEMENTATION***"
   ]
  },
  {
   "cell_type": "markdown",
   "metadata": {},
   "source": [
    "***Ineffective*** \n",
    "\n",
    "One way for this implementation, using list of tuple like this:"
   ]
  },
  {
   "cell_type": "code",
   "execution_count": 1,
   "metadata": {},
   "outputs": [],
   "source": [
    "routes = [\n",
    "    (\"Mumbai\", \"Paris\"),\n",
    "    (\"Mumbai\", \"Dubai\"),\n",
    "    (\"Paris\", \"Dubai\"),\n",
    "    (\"Paris\", \"New York\"),\n",
    "    (\"New York\", \"Toronto\")\n",
    "]"
   ]
  },
  {
   "cell_type": "markdown",
   "metadata": {},
   "source": [
    "* In terms of manipulating this information a proper way we need to **transform this structure to some other better data structures.**\n",
    "\n",
    "* Because going through this edges one by one is **too expensive** often work. "
   ]
  },
  {
   "cell_type": "markdown",
   "metadata": {},
   "source": [
    "***Effective***\n",
    "\n",
    "Another way we can create this kind of dictionary a city can include a lot of possible paths :\n",
    "\n"
   ]
  },
  {
   "cell_type": "code",
   "execution_count": null,
   "metadata": {},
   "outputs": [],
   "source": [
    "routes = {\n",
    "    \"Mumbai\" : [\"Paris\", \"Dubai\"],\n",
    "    \"Paris\" : [\"Dubai\", \"New York\"],\n",
    "    \"New York\" : [\"Toronto\"],\n",
    "}"
   ]
  },
  {
   "cell_type": "markdown",
   "metadata": {},
   "source": [
    "* This kind of presentation might be a little morre effective. \n",
    "\n",
    "* ***So first step we are going to do is transform ineffective structure to effective structues in graph class.***\n",
    "\n",
    "***LET'S CODE***"
   ]
  },
  {
   "cell_type": "code",
   "execution_count": 2,
   "metadata": {},
   "outputs": [
    {
     "name": "stdout",
     "output_type": "stream",
     "text": [
      "\n",
      "Graph Dictionary : {'Mumbai': ['Paris', 'Dubai'], 'Paris': ['Dubai', 'New York'], 'Dubai': ['New York'], 'New York': ['Toronto']}\n",
      "\n",
      "\n",
      "All routes between Mumbai - New York :  [['Mumbai', 'Paris', 'Dubai', 'New York'], ['Mumbai', 'Paris', 'New York'], ['Mumbai', 'Dubai', 'New York']]\n",
      "\n",
      "Shortest route between Mumbai - New York :  ['Mumbai', 'Paris', 'New York']\n"
     ]
    }
   ],
   "source": [
    "class Graph:\n",
    "    def __init__(self, edges):\n",
    "        self.edges = edges\n",
    "        self.graph_dict = {}\n",
    "\n",
    "        for start, end in edges:\n",
    "            if start in self.graph_dict:\n",
    "                self.graph_dict[start].append(end)\n",
    "            else:\n",
    "                self.graph_dict[start] = [end]\n",
    "        \n",
    "        print(\"\\nGraph Dictionary :\", self.graph_dict)\n",
    "    \n",
    "    def get_paths(self, start, end, path = []):\n",
    "        path = path + [start]\n",
    "\n",
    "        if start == end:\n",
    "            return [path]\n",
    "\n",
    "        if start not in self.graph_dict:\n",
    "            return []\n",
    "        \n",
    "        all_paths = []\n",
    "        for node in self.graph_dict[start]:\n",
    "            if node not in path:\n",
    "                new_paths = self.get_paths(node, end, path)\n",
    "                for p in new_paths:\n",
    "                    all_paths.append(p)\n",
    "        \n",
    "        return all_paths\n",
    "\n",
    "    def get_shortest_path(self, start, end, path = []):\n",
    "        path = path + [start]\n",
    "        \n",
    "        if start == end:\n",
    "            return path\n",
    "        \n",
    "        if start not in self.graph_dict:\n",
    "            return None\n",
    "        \n",
    "        shortest_path = None\n",
    "        for node in self.graph_dict[start]:\n",
    "            if node not in path:\n",
    "                sp = self.get_shortest_path(node, end, path) \n",
    "                if sp:\n",
    "                    if shortest_path is None or len(sp) < len(shortest_path):\n",
    "                        shortest_path = sp\n",
    "       \n",
    "        return shortest_path\n",
    "    \n",
    "if __name__ == \"__main__\":\n",
    "    routes = [\n",
    "        (\"Mumbai\", \"Paris\"),\n",
    "        (\"Mumbai\", \"Dubai\"),\n",
    "        (\"Paris\", \"Dubai\"),\n",
    "        (\"Paris\", \"New York\"),\n",
    "        (\"Dubai\", \"New York\"),\n",
    "        (\"New York\", \"Toronto\"),\n",
    "    ]\n",
    "    \n",
    "    route_graph = Graph(routes)\n",
    "    print()\n",
    "\n",
    "    start = \"Mumbai\"\n",
    "    end = \"New York\"\n",
    "    \n",
    "    print(f\"\\nAll routes between {start} - {end} : \", route_graph.get_paths(start, end ))\n",
    "    print(f\"\\nShortest route between {start} - {end} : \", route_graph.get_shortest_path(start, end))"
   ]
  },
  {
   "cell_type": "code",
   "execution_count": null,
   "metadata": {},
   "outputs": [],
   "source": []
  }
 ],
 "metadata": {
  "kernelspec": {
   "display_name": "Python 3.7.6 64-bit",
   "language": "python",
   "name": "python376jvsc74a57bd0866d5841430c3d306be85ba8ea18c03bcd6daa2993a269ebe1bd3ffce43e06f1"
  },
  "language_info": {
   "codemirror_mode": {
    "name": "ipython",
    "version": 3
   },
   "file_extension": ".py",
   "mimetype": "text/x-python",
   "name": "python",
   "nbconvert_exporter": "python",
   "pygments_lexer": "ipython3",
   "version": "3.7.6"
  }
 },
 "nbformat": 4,
 "nbformat_minor": 4
}

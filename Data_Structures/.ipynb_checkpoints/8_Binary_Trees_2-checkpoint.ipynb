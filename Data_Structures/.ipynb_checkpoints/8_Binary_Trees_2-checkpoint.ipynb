{
 "cells": [
  {
   "cell_type": "markdown",
   "metadata": {},
   "source": [
    "## **BINARY TREES**"
   ]
  },
  {
   "cell_type": "markdown",
   "metadata": {},
   "source": [
    "### ***Theor Behind Node Deletion?*** "
   ]
  },
  {
   "cell_type": "markdown",
   "metadata": {},
   "source": [
    "When you want to delete a node from binary tree, there are three different cases :"
   ]
  },
  {
   "cell_type": "markdown",
   "metadata": {},
   "source": [
    "***1. Delete node with no child(which is a leaf node)***\n",
    "* Remove the 9 from left subtree\n",
    "\n",
    "![](images1/btd.png)\n",
    "\n",
    "* Result of tree after deletion:\n",
    "![](images1/btd_1.png)\n"
   ]
  },
  {
   "cell_type": "markdown",
   "metadata": {},
   "source": [
    "***2. Delete node one child.***\n",
    "\n",
    "* You can just remove it and you can move 34 here at the top.\n",
    "\n",
    "![](images1/btd2.png)\n",
    "\n",
    "* Result of the tree look like:\n",
    "\n",
    "![](images1/btd3.png)\n"
   ]
  },
  {
   "cell_type": "markdown",
   "metadata": {},
   "source": [
    "***3. Delete node with two children***\n",
    "* The most tricky case is this case.\n",
    "\n",
    "![](images1/btd4.png)\n",
    "\n",
    "* After deletion 20 you have to rebalance tree in a way that the basic properties of bst:\n",
    "   \n",
    "    * All the elements should be unique \n",
    "    * The left subtree should have value less then the current node vale and the all elements of the right subtree greater than current node value \n",
    "\n",
    "**Approach 1:**\n",
    "* Look into right subtree (23-34), then find minimum from this subtree and copy this value in location to the 20\n",
    "\n",
    "![](images1/btd5.png)\n",
    "\n",
    "* Then just remove the duplicates.\n",
    "\n",
    "![](images1/btd6.png)\n",
    "\n",
    "\n",
    "* Why take minimum value? \n",
    "    * Guaranteeing that, all the elements which are right of current subtree greater thann this current node \n",
    "    \n",
    "**Approach 2:**\n",
    "\n",
    "* Look into left subtree(which down the delete node)(18-13-19)  \n",
    "\n",
    "![](images1/btd7.png)\n",
    "\n",
    "* find maximum from this subtree and copy this location to 20 node\n",
    "\n",
    "![](images1/btd8.png)\n",
    "\n",
    "* Then just remove the duplicates.\n",
    "\n",
    "![](images1/btd10.png)\n",
    "\n",
    "* Why take maximum value? \n",
    "    * Guaranteeing that, all the elements which are left subtree of current subtree lesser than this current node \n",
    "    "
   ]
  },
  {
   "cell_type": "markdown",
   "metadata": {},
   "source": [
    "### ***BINARY  SEARCH TREE IMPLEMENTATION FOR DELETE OPERATION***"
   ]
  },
  {
   "cell_type": "code",
   "execution_count": 14,
   "metadata": {},
   "outputs": [
    {
     "name": "stdout",
     "output_type": "stream",
     "text": [
      "Building tree with these elements: [17, 4, 1, 20, 9, 23, 18, 34]\n",
      "After deleting 20  [1, 4, 9, 17, 18, 23, 34]\n",
      "\n",
      "Building tree with these elements: [17, 4, 1, 20, 9, 23, 18, 34]\n",
      "After deleting 1  [4, 9, 17, 18, 20, 23, 34]\n",
      "\n",
      "Building tree with these elements: [17, 4, 1, 20, 9, 23, 18, 34]\n",
      "After deleting 17  [1, 4, 9, 18, 20, 23, 34]\n",
      "\n"
     ]
    }
   ],
   "source": [
    "class BinarySearchTreeNode:\n",
    "    def __init__(self, data):\n",
    "        self.data = data\n",
    "        self.left = None\n",
    "        self.right = None\n",
    "\n",
    "    def add_child(self, data):\n",
    "        if data == self.data:\n",
    "            return # node already exist\n",
    "\n",
    "        if data < self.data:\n",
    "            if self.left:\n",
    "                self.left.add_child(data)\n",
    "            else:\n",
    "                self.left = BinarySearchTreeNode(data)\n",
    "        else:\n",
    "            if self.right:\n",
    "                self.right.add_child(data)\n",
    "            else:\n",
    "                self.right = BinarySearchTreeNode(data)\n",
    "\n",
    "    def search(self, val):\n",
    "        if self.data == val:\n",
    "            return True\n",
    "\n",
    "        if val < self.data:\n",
    "            if self.left:\n",
    "                return self.left.search(val)\n",
    "            else:\n",
    "                return False\n",
    "\n",
    "        if val > self.data:\n",
    "            if self.right:\n",
    "                return self.right.search(val)\n",
    "            else:\n",
    "                return False\n",
    "\n",
    "    def in_order_traversal(self):\n",
    "        elements = []\n",
    "        if self.left:\n",
    "            elements += self.left.in_order_traversal()\n",
    "\n",
    "        elements.append(self.data)\n",
    "\n",
    "        if self.right:\n",
    "            elements += self.right.in_order_traversal()\n",
    "\n",
    "        return elements\n",
    "    \n",
    "    def delete(self, val):\n",
    "        if val < self.data:\n",
    "            if self.left:\n",
    "                self.left = self.left.delete(val)\n",
    "        elif val > self.data:\n",
    "            if self.right:\n",
    "                self.right = self.right.delete(val)\n",
    "        else:\n",
    "            if self.left is None and self.right is None:\n",
    "                return None\n",
    "            elif self.left is None:\n",
    "                return self.right\n",
    "            elif self.right is None:\n",
    "                return self.left\n",
    "\n",
    "            min_val = self.right.find_min()\n",
    "            self.data = min_val\n",
    "            self.right = self.right.delete(min_val)\n",
    "\n",
    "        return self\n",
    "\n",
    "    def find_max(self):\n",
    "        if self.right is None:\n",
    "            return self.data\n",
    "        return self.right.find_max()\n",
    "\n",
    "    def find_min(self):\n",
    "        if self.left is None:\n",
    "            return self.data\n",
    "        return self.left.find_min()\n",
    "\n",
    "\n",
    "def build_tree(elements):\n",
    "    print(\"Building tree with these elements:\",elements)\n",
    "    root = BinarySearchTreeNode(elements[0])\n",
    "\n",
    "    for i in range(1,len(elements)):\n",
    "        root.add_child(elements[i])\n",
    "\n",
    "    return root\n",
    "\n",
    "if __name__ == '__main__':\n",
    "    numbers_tree = build_tree([17, 4, 1, 20, 9, 23, 18, 34])\n",
    "    numbers_tree.delete(20)\n",
    "    print(\"After deleting 20 \",numbers_tree.in_order_traversal()) # this should print [1, 4, 9, 17, 18, 23, 34]\n",
    "    print()\n",
    "    \n",
    "    numbers_tree = build_tree([17, 4, 1, 20, 9, 23, 18, 34])\n",
    "    numbers_tree.delete(1)\n",
    "    print(\"After deleting 1 \",numbers_tree.in_order_traversal())  # this should print [1, 4, 17, 18, 20, 23, 34]\n",
    "    print()\n",
    "    \n",
    "    numbers_tree = build_tree([17, 4, 1, 20, 9, 23, 18, 34])\n",
    "    numbers_tree.delete(17)\n",
    "    print(\"After deleting 17 \",numbers_tree.in_order_traversal())  # this should print [1, 4, 9, 18, 20, 23, 34]\n",
    "    print()\n"
   ]
  },
  {
   "cell_type": "code",
   "execution_count": null,
   "metadata": {},
   "outputs": [],
   "source": []
  }
 ],
 "metadata": {
  "kernelspec": {
   "display_name": "Python 3.7.6 64-bit",
   "language": "python",
   "name": "python376jvsc74a57bd0866d5841430c3d306be85ba8ea18c03bcd6daa2993a269ebe1bd3ffce43e06f1"
  },
  "language_info": {
   "codemirror_mode": {
    "name": "ipython",
    "version": 3
   },
   "file_extension": ".py",
   "mimetype": "text/x-python",
   "name": "python",
   "nbconvert_exporter": "python",
   "pygments_lexer": "ipython3",
   "version": "3.7.6"
  }
 },
 "nbformat": 4,
 "nbformat_minor": 4
}

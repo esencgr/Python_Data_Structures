{
 "cells": [
  {
   "cell_type": "markdown",
   "metadata": {},
   "source": [
    "## **Shell Sort**"
   ]
  },
  {
   "cell_type": "markdown",
   "metadata": {},
   "source": [
    "### ***Basic Theory of Selection Sort***"
   ]
  },
  {
   "cell_type": "markdown",
   "metadata": {},
   "source": [
    "We have this list, we want to sort it:\n",
    "\n",
    "![](pics/sel.png)\n",
    "\n",
    "* We will try to find to candidate the minimum number in the list for 1st index. So swap 4 and 21\n",
    "\n",
    "* And than we have minimum number of 9 for 2nd index. Swap 9 and 38\n",
    "\n",
    "* Certain that when we find minimum number, look at the unsorted partition of the list.\n",
    "\n",
    "![](pics/sel2.png)\n",
    "\n",
    "* Keep on moving this process until the all elements of the list is sorted.\n"
   ]
  },
  {
   "cell_type": "markdown",
   "metadata": {},
   "source": [
    "### ***Insertion Sort Implementation***"
   ]
  },
  {
   "cell_type": "code",
   "execution_count": 8,
   "metadata": {},
   "outputs": [
    {
     "name": "stdout",
     "output_type": "stream",
     "text": [
      "[1, 2, 6, 7, 9, 12, 17, 21, 23, 53, 61, 78, 89]\n",
      "[]\n",
      "[1, 5, 8, 9]\n",
      "[1, 3, 9, 12, 12, 34, 56, 234, 1300]\n",
      "[8, 12, 15, 23, 27, 53, 61, 78]\n",
      "[5]\n"
     ]
    }
   ],
   "source": [
    "def find_min(arr):\n",
    "    mn = arr[0]\n",
    "    for i in range(1,len(arr)):\n",
    "        if arr[i] < mn:\n",
    "            mn = arr[i]\n",
    "    return mn\n",
    "\n",
    "\n",
    "def selection_sort(arr):\n",
    "    size = len(arr)\n",
    "    for i in range(size-1):\n",
    "        min_index = i\n",
    "        for j in range(min_index + 1, size):\n",
    "            if arr[j] < arr[min_index]:\n",
    "                min_index = j\n",
    "                \n",
    "        if i != min_index:\n",
    "            arr[i], arr[min_index] = arr[min_index], arr[i] \n",
    "        \n",
    "if __name__ == \"__main__\":\n",
    "    tests = [\n",
    "        [89, 78, 61, 53, 23, 21, 17, 12, 9, 7, 6, 2, 1],\n",
    "        [],\n",
    "        [1,5,8,9],\n",
    "        [234,3,1,56,34,12,9,12,1300],\n",
    "        [78, 12, 15, 8, 61, 53, 23, 27],\n",
    "        [5]\n",
    "    ]\n",
    "    \n",
    "    for elements in tests:\n",
    "        selection_sort(elements)\n",
    "        print(elements)"
   ]
  },
  {
   "cell_type": "markdown",
   "metadata": {},
   "source": [
    "### ***Big-O Analysis***\n",
    " \n",
    " \n",
    "![](pics/.png)\n"
   ]
  },
  {
   "cell_type": "markdown",
   "metadata": {},
   "source": [
    "![](pics/sel3.png)\n",
    "\n",
    "*  It is not very efficient but in certain cases it could be usefull especially when you have an extra space."
   ]
  },
  {
   "cell_type": "markdown",
   "metadata": {},
   "source": [
    "# Exercise: Selection Sort\n",
    "    "
   ]
  },
  {
   "cell_type": "code",
   "execution_count": 22,
   "metadata": {},
   "outputs": [
    {
     "name": "stdout",
     "output_type": "stream",
     "text": [
      "Given unsorted array:\n",
      "{'First Name': 'Raj', 'Last Name': 'Nayyar'}\n",
      "{'First Name': 'Suraj', 'Last Name': 'Sharma'}\n",
      "{'First Name': 'Karan', 'Last Name': 'Kumar'}\n",
      "{'First Name': 'Jade', 'Last Name': 'Canary'}\n",
      "{'First Name': 'Raj', 'Last Name': 'Thakur'}\n",
      "{'First Name': 'Raj', 'Last Name': 'Sharma'}\n",
      "{'First Name': 'Kiran', 'Last Name': 'Kamla'}\n",
      "{'First Name': 'Armaan', 'Last Name': 'Kumar'}\n",
      "{'First Name': 'Jaya', 'Last Name': 'Sharma'}\n",
      "{'First Name': 'Ingrid', 'Last Name': 'Galore'}\n",
      "{'First Name': 'Jaya', 'Last Name': 'Seth'}\n",
      "{'First Name': 'Armaan', 'Last Name': 'Dadra'}\n",
      "{'First Name': 'Ingrid', 'Last Name': 'Maverick'}\n",
      "{'First Name': 'Aahana', 'Last Name': 'Arora'}\n",
      "\n",
      "\n",
      "Array after Multi-Level Sorting:\n",
      "{'First Name': 'Aahana', 'Last Name': 'Arora'}\n",
      "{'First Name': 'Armaan', 'Last Name': 'Dadra'}\n",
      "{'First Name': 'Armaan', 'Last Name': 'Kumar'}\n",
      "{'First Name': 'Ingrid', 'Last Name': 'Galore'}\n",
      "{'First Name': 'Ingrid', 'Last Name': 'Maverick'}\n",
      "{'First Name': 'Jade', 'Last Name': 'Canary'}\n",
      "{'First Name': 'Jaya', 'Last Name': 'Seth'}\n",
      "{'First Name': 'Jaya', 'Last Name': 'Sharma'}\n",
      "{'First Name': 'Karan', 'Last Name': 'Kumar'}\n",
      "{'First Name': 'Kiran', 'Last Name': 'Kamla'}\n",
      "{'First Name': 'Raj', 'Last Name': 'Sharma'}\n",
      "{'First Name': 'Raj', 'Last Name': 'Nayyar'}\n",
      "{'First Name': 'Raj', 'Last Name': 'Thakur'}\n",
      "{'First Name': 'Suraj', 'Last Name': 'Sharma'}\n"
     ]
    }
   ],
   "source": [
    "def multilevel_selection_sort(elements, sort_by_list):\n",
    "    for sort_by in sort_by_list[-1::-1]:\n",
    "        for x in range(len(elements)):\n",
    "            min_index = x\n",
    "            for y in range(x, len(elements)):\n",
    "                if elements[y][sort_by] < elements[min_index][sort_by]:\n",
    "                    min_index = y\n",
    "            if x != min_index:\n",
    "                elements[x], elements[min_index] = elements[min_index], elements[x]\n",
    "if __name__ == '__main__':\n",
    "    elements = [\n",
    "        {'First Name': 'Raj', 'Last Name': 'Nayyar'},\n",
    "        {'First Name': 'Suraj', 'Last Name': 'Sharma'},\n",
    "        {'First Name': 'Karan', 'Last Name': 'Kumar'},\n",
    "        {'First Name': 'Jade', 'Last Name': 'Canary'},\n",
    "        {'First Name': 'Raj', 'Last Name': 'Thakur'},\n",
    "        {'First Name': 'Raj', 'Last Name': 'Sharma'},\n",
    "        {'First Name': 'Kiran', 'Last Name': 'Kamla'},\n",
    "        {'First Name': 'Armaan', 'Last Name': 'Kumar'},\n",
    "        {'First Name': 'Jaya', 'Last Name': 'Sharma'},\n",
    "        {'First Name': 'Ingrid', 'Last Name': 'Galore'},\n",
    "        {'First Name': 'Jaya', 'Last Name': 'Seth'},\n",
    "        {'First Name': 'Armaan', 'Last Name': 'Dadra'},\n",
    "        {'First Name': 'Ingrid', 'Last Name': 'Maverick'},\n",
    "        {'First Name': 'Aahana', 'Last Name': 'Arora'}\n",
    "    ]\n",
    "\n",
    "    print(f'Given unsorted array:', *elements, sep='\\n')\n",
    "    multilevel_selection_sort(elements, ['First Name', 'Last Name'])\n",
    "    print(f'\\n\\nArray after Multi-Level Sorting:', *elements, sep='\\n')"
   ]
  },
  {
   "cell_type": "code",
   "execution_count": 43,
   "metadata": {
    "scrolled": true
   },
   "outputs": [
    {
     "name": "stdout",
     "output_type": "stream",
     "text": [
      "Given unsorted array:\n",
      "{'First Name': 'Raj', 'Last Name': 'Nayyar'}\n",
      "{'First Name': 'Suraj', 'Last Name': 'Sharma'}\n",
      "{'First Name': 'Karan', 'Last Name': 'Kumar'}\n",
      "{'First Name': 'Jade', 'Last Name': 'Canary'}\n",
      "{'First Name': 'Raj', 'Last Name': 'Thakur'}\n",
      "{'First Name': 'Raj', 'Last Name': 'Sharma'}\n",
      "{'First Name': 'Kiran', 'Last Name': 'Kamla'}\n",
      "{'First Name': 'Armaan', 'Last Name': 'Kumar'}\n",
      "{'First Name': 'Jaya', 'Last Name': 'Sharma'}\n",
      "{'First Name': 'Ingrid', 'Last Name': 'Galore'}\n",
      "{'First Name': 'Jaya', 'Last Name': 'Seth'}\n",
      "{'First Name': 'Armaan', 'Last Name': 'Dadra'}\n",
      "{'First Name': 'Ingrid', 'Last Name': 'Maverick'}\n",
      "{'First Name': 'Aahana', 'Last Name': 'Arora'}\n",
      "\n",
      "\n",
      "Array after Multi-Level Sorting:\n",
      "{'First Name': 'Aahana', 'Last Name': 'Arora'}\n",
      "{'First Name': 'Armaan', 'Last Name': 'Dadra'}\n",
      "{'First Name': 'Armaan', 'Last Name': 'Kumar'}\n",
      "{'First Name': 'Ingrid', 'Last Name': 'Galore'}\n",
      "{'First Name': 'Ingrid', 'Last Name': 'Maverick'}\n",
      "{'First Name': 'Jade', 'Last Name': 'Canary'}\n",
      "{'First Name': 'Jaya', 'Last Name': 'Seth'}\n",
      "{'First Name': 'Jaya', 'Last Name': 'Sharma'}\n",
      "{'First Name': 'Karan', 'Last Name': 'Kumar'}\n",
      "{'First Name': 'Kiran', 'Last Name': 'Kamla'}\n",
      "{'First Name': 'Raj', 'Last Name': 'Sharma'}\n",
      "{'First Name': 'Raj', 'Last Name': 'Nayyar'}\n",
      "{'First Name': 'Raj', 'Last Name': 'Thakur'}\n",
      "{'First Name': 'Suraj', 'Last Name': 'Sharma'}\n"
     ]
    }
   ],
   "source": [
    "def select(arr):\n",
    "    size = len(arr)\n",
    "    ind = ['First Name','Last Name']\n",
    "    ind.reverse()\n",
    "    for n in ind:\n",
    "        for i in range(size-1):\n",
    "            min_index = i\n",
    "            for j in range(min_index + 1, size):\n",
    "                if arr[j][n] < arr[min_index][n]:                           \n",
    "                    min_index = j\n",
    "            if i != min_index:\n",
    "                arr[i], arr[min_index] = arr[min_index], arr[i] \n",
    "        \n",
    "if __name__ == '__main__':\n",
    "    elements = [\n",
    "        {'First Name': 'Raj', 'Last Name': 'Nayyar'},\n",
    "        {'First Name': 'Suraj', 'Last Name': 'Sharma'},\n",
    "        {'First Name': 'Karan', 'Last Name': 'Kumar'},\n",
    "        {'First Name': 'Jade', 'Last Name': 'Canary'},\n",
    "        {'First Name': 'Raj', 'Last Name': 'Thakur'},\n",
    "        {'First Name': 'Raj', 'Last Name': 'Sharma'},\n",
    "        {'First Name': 'Kiran', 'Last Name': 'Kamla'},\n",
    "        {'First Name': 'Armaan', 'Last Name': 'Kumar'},\n",
    "        {'First Name': 'Jaya', 'Last Name': 'Sharma'},\n",
    "        {'First Name': 'Ingrid', 'Last Name': 'Galore'},\n",
    "        {'First Name': 'Jaya', 'Last Name': 'Seth'},\n",
    "        {'First Name': 'Armaan', 'Last Name': 'Dadra'},\n",
    "        {'First Name': 'Ingrid', 'Last Name': 'Maverick'},\n",
    "        {'First Name': 'Aahana', 'Last Name': 'Arora'}\n",
    "    ]\n",
    "\n",
    "    print(f'Given unsorted array:', *elements, sep='\\n')\n",
    "    select(elements)\n",
    "    print(f'\\n\\nArray after Multi-Level Sorting:', *elements, sep='\\n')"
   ]
  }
 ],
 "metadata": {
  "kernelspec": {
   "display_name": "Python 3.7.6 64-bit",
   "language": "python",
   "name": "python376jvsc74a57bd0866d5841430c3d306be85ba8ea18c03bcd6daa2993a269ebe1bd3ffce43e06f1"
  },
  "language_info": {
   "codemirror_mode": {
    "name": "ipython",
    "version": 3
   },
   "file_extension": ".py",
   "mimetype": "text/x-python",
   "name": "python",
   "nbconvert_exporter": "python",
   "pygments_lexer": "ipython3",
   "version": "3.7.6"
  }
 },
 "nbformat": 4,
 "nbformat_minor": 4
}

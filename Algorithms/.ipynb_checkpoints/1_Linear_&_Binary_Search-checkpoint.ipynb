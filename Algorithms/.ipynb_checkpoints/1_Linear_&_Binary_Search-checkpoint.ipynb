{
 "cells": [
  {
   "cell_type": "markdown",
   "metadata": {},
   "source": [
    "## **LINEAR & BINARY SEARCH**"
   ]
  },
  {
   "cell_type": "markdown",
   "metadata": {},
   "source": [
    "### ***Basic Theory of Linear Search*** "
   ]
  },
  {
   "cell_type": "markdown",
   "metadata": {},
   "source": [
    "* Start from zeroth index.\n",
    "* Go one element by one element. \n",
    "* Try comparing the numbers. \n",
    "* In the end find number in index 7.\n",
    "\n",
    "![](pics/b1.png)\n",
    "\n",
    "\n",
    "**Example (real life):**\n",
    "* Imagıne electronic store where the data of electronic tools are stores in a list.\n",
    "* If this store uses linear search for each search operation like thiis: \n",
    "\n",
    "![](pics/b2.png)\n",
    "\n",
    "\n",
    "* ***Big-O complexity is : O(n)***\n",
    "\n",
    "* ***Note:*** Imagine that you have million or billion device in this shop or store, this is not efficient.\n",
    "\n",
    "* ***Is there any better way for this less then 7 iteartions.***\n",
    "\n",
    "***LETS LOOK!***"
   ]
  },
  {
   "cell_type": "markdown",
   "metadata": {},
   "source": [
    "### ***Basic Theory of Binary Search*** "
   ]
  },
  {
   "cell_type": "markdown",
   "metadata": {},
   "source": [
    "Binary search works on the concept of sorted list\n",
    "\n",
    "* Take the middle element (21)\n",
    "* Compare it with 32, less than 32 \n",
    "* The number exist left side because list is sorted, all the elements are from 4 to 21 are rule out. The number is not in that particular portion.\n",
    "* And repeat this process until the element is find.\n",
    "\n",
    "![](pics/b4.png)\n",
    "\n",
    "* In binary search in every iterationyou are dividing your search space by half:\n",
    "    * Iteration 1 : n/2 elements discarded  \n",
    "    * Iteration 2 : (n/2)/2 elements discarded  \n",
    "    * Iteration 3 : ((n/2)/2)/2 elements discarded  \n",
    "    * Iteration k : n/2^k elements discarded  \n",
    "\n",
    "![](pics/b5.png)\n",
    "\n",
    "* Going over this math equation:\n",
    "\n",
    "\n",
    "![](pics/b6.png)\n",
    " \n",
    "    \n",
    "* ***Big-O complexity is : O(log n)***\n"
   ]
  },
  {
   "cell_type": "markdown",
   "metadata": {},
   "source": [
    "### ***Big-O Analysis Compare***\n",
    "\n",
    "![](pics/b8.png)"
   ]
  },
  {
   "cell_type": "markdown",
   "metadata": {},
   "source": [
    "### ***Linear & Binary Search Implementation***"
   ]
  },
  {
   "cell_type": "code",
   "execution_count": 2,
   "metadata": {},
   "outputs": [
    {
     "name": "stdout",
     "output_type": "stream",
     "text": [
      "1\n"
     ]
    }
   ],
   "source": [
    "def linear_search(number_list, number_to_find):\n",
    "    for index, element in enumerate(number_list):\n",
    "        if element == number_to_find:\n",
    "            return index \n",
    "    return -1\n",
    "\n",
    "def binary_search(number_list, number_to_find):\n",
    "    left_index = 0\n",
    "    right_index = len(number_list) - 1 \n",
    "    mid_index = 0 \n",
    "    \n",
    "    while left_index <= right_index:\n",
    "        mid_index = (left_index + right_index) // 2 \n",
    "        mid_number = number_list[mid_index]\n",
    "        \n",
    "        if mid_number == number_to_find:\n",
    "            return mid_index\n",
    "\n",
    "        if mid_number < number_to_find:\n",
    "            left_index = mid_index + 1 \n",
    "\n",
    "        else:\n",
    "            right_index = mid_index - 1  \n",
    "    \n",
    "    return -1 \n",
    "\n",
    "def binary_search_recursive(numbers_list, number_to_find, left_index, right_index):\n",
    "    if right_index < left_index:\n",
    "        return -1\n",
    "\n",
    "    mid_index = (left_index + right_index) // 2\n",
    "    if mid_index >= len(numbers_list) or mid_index < 0:\n",
    "        return -1\n",
    "\n",
    "    mid_number = numbers_list[mid_index]\n",
    "\n",
    "    if mid_number == number_to_find:\n",
    "        return mid_index\n",
    "\n",
    "    if mid_number < number_to_find:\n",
    "        left_index = mid_index + 1\n",
    "    else:\n",
    "        right_index = mid_index - 1\n",
    "\n",
    "    return binary_search_recursive(numbers_list, number_to_find, left_index, right_index)\n",
    "\n",
    "if __name__ == \"__main__\":\n",
    "\n",
    "    numbers = [12, 15, 17, 19, 21, 24, 45, 67, 100]\n",
    "    number_to_find = 15\n",
    "    # index = linear_search(numbers, number_to_find)\n",
    "    # print(f\"Number found at index : {index} using linear search\")\n",
    "\n",
    "    index = binary_search(numbers, number_to_find)\n",
    "    print(index)"
   ]
  },
  {
   "cell_type": "markdown",
   "metadata": {},
   "source": [
    "### ***Performance Comparison***"
   ]
  },
  {
   "cell_type": "code",
   "execution_count": 5,
   "metadata": {},
   "outputs": [
    {
     "name": "stdout",
     "output_type": "stream",
     "text": [
      "\n",
      "work time of linear_search : \n",
      "5.668401718139648 mil second\n",
      "\n",
      "Number found at index : 100000 using linear search\n",
      "\n",
      "work time of binary_search : \n",
      "0.014543533325195312 mil second\n",
      "\n",
      "Number found at index : 100000 using linear search\n"
     ]
    }
   ],
   "source": [
    "from util import time_it\n",
    "\n",
    "@time_it\n",
    "def linear_search(number_list, number_to_find):\n",
    "    for index, element in enumerate(number_list):\n",
    "        if element == number_to_find:\n",
    "            return index \n",
    "    return -1\n",
    "\n",
    "@time_it\n",
    "def binary_search(number_list, number_to_find):\n",
    "    left_index = 0\n",
    "    right_index = len(number_list) - 1 \n",
    "    mid_index = 0 \n",
    "    \n",
    "    while left_index <= right_index:\n",
    "        mid_index = (left_index + right_index) // 2 \n",
    "        mid_number = number_list[mid_index]\n",
    "\n",
    "        if mid_number == number_to_find:\n",
    "            return mid_index\n",
    "\n",
    "        if mid_number < number_to_find:\n",
    "            left_index = mid_index + 1 \n",
    "\n",
    "        else:\n",
    "            right_index = mid_index - 1  \n",
    "    \n",
    "    return -1 \n",
    "\n",
    "if __name__ == \"__main__\":\n",
    "    \n",
    "    numbers = [number for number in range(100001)]\n",
    "    number_to_find = 100000\n",
    "\n",
    "    index = linear_search(numbers, number_to_find)\n",
    "    print(f\"Number found at index : {index} using linear search\")\n",
    "\n",
    "    index = binary_search(numbers, number_to_find)\n",
    "    print(f\"Number found at index : {index} using linear search\")\n"
   ]
  },
  {
   "cell_type": "markdown",
   "metadata": {},
   "source": [
    "![](pics/ex1.png)"
   ]
  },
  {
   "cell_type": "markdown",
   "metadata": {},
   "source": [
    "### ***Solution 1*** "
   ]
  },
  {
   "cell_type": "markdown",
   "metadata": {},
   "source": [
    "Because the list is not sorted. Binary search requires that list has to be sorted."
   ]
  },
  {
   "cell_type": "markdown",
   "metadata": {},
   "source": [
    "### ***Solution 2*** "
   ]
  },
  {
   "cell_type": "code",
   "execution_count": 1,
   "metadata": {},
   "outputs": [
    {
     "name": "stdout",
     "output_type": "stream",
     "text": [
      "Indices of occurances of 15 are [5, 6, 7]\n"
     ]
    }
   ],
   "source": [
    "def binary_search(numbers_list, number_to_find):\n",
    "    left_index = 0\n",
    "    right_index = len(numbers_list) - 1\n",
    "    mid_index = 0\n",
    "\n",
    "    while left_index <= right_index:\n",
    "        mid_index = (left_index + right_index) // 2\n",
    "        mid_number = numbers_list[mid_index]\n",
    "\n",
    "        if mid_number == number_to_find:\n",
    "            return mid_index\n",
    "\n",
    "        if mid_number < number_to_find: # this means number is in right hand side of the list\n",
    "            left_index = mid_index + 1\n",
    "        else: # number to find is on left hand side of the list\n",
    "            right_index = mid_index - 1\n",
    "\n",
    "    return -1\n",
    "\n",
    "def find_all_occurances(numbers, number_to_find):\n",
    "    index = binary_search(numbers, number_to_find)\n",
    "    indices = [index]\n",
    "    \n",
    "    # find indices on left hand side\n",
    "    i = index - 1 \n",
    "    while i >= 0:\n",
    "        if numbers[i] == number_to_find:\n",
    "            indices.append(i)\n",
    "        else: \n",
    "            break\n",
    "        i = i - 1\n",
    "        \n",
    "    # find indices on right hand side\n",
    "    i = index + 1\n",
    "    while i<len(numbers):\n",
    "        if numbers[i] == number_to_find:\n",
    "            indices.append(i)\n",
    "        else:\n",
    "            break\n",
    "        i = i + 1\n",
    "\n",
    "    return sorted(indices)\n",
    "\n",
    "if __name__ == '__main__':\n",
    "    numbers = [1,4,6,9,11,15,15,15,17,21,34,34,56]\n",
    "    number_to_find = 15\n",
    "    indices = find_all_occurances(numbers, number_to_find)\n",
    "    print(f\"Indices of occurances of {number_to_find} are {indices}\")"
   ]
  },
  {
   "cell_type": "code",
   "execution_count": null,
   "metadata": {},
   "outputs": [],
   "source": []
  },
  {
   "cell_type": "code",
   "execution_count": null,
   "metadata": {},
   "outputs": [],
   "source": []
  }
 ],
 "metadata": {
  "kernelspec": {
   "display_name": "Python 3.7.6 64-bit",
   "language": "python",
   "name": "python376jvsc74a57bd0866d5841430c3d306be85ba8ea18c03bcd6daa2993a269ebe1bd3ffce43e06f1"
  },
  "language_info": {
   "codemirror_mode": {
    "name": "ipython",
    "version": 3
   },
   "file_extension": ".py",
   "mimetype": "text/x-python",
   "name": "python",
   "nbconvert_exporter": "python",
   "pygments_lexer": "ipython3",
   "version": "3.7.6"
  }
 },
 "nbformat": 4,
 "nbformat_minor": 4
}

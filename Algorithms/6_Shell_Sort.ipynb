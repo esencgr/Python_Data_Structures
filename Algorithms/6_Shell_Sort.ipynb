{
 "cells": [
  {
   "cell_type": "markdown",
   "metadata": {},
   "source": [
    "## **Shell Sort**"
   ]
  },
  {
   "cell_type": "markdown",
   "metadata": {},
   "source": [
    "### ***Basic Theory of Shell Sort***"
   ]
  },
  {
   "cell_type": "markdown",
   "metadata": {},
   "source": [
    "**Shell Sort is an optimization over insertion sort.**\n",
    "\n",
    "**Issues with shell sort**\n",
    "\n",
    "When small elements are towards the end it takes many:\n",
    "    \n",
    "   ***1-*** Comparisons\n",
    "   \n",
    "   ***2-*** Swaps \n",
    "   \n",
    "And shell sort try to solve this problem with try that way: **try to move the heavier elements on the rightside**\n",
    "\n",
    "![](pics/sh.png)\n",
    "\n",
    "* Heavier elements  which is 38-29-32 should be in rightside.\n",
    "\n",
    "* ***And if heavier elements on the rights naturally perform of insertion sort is improved and the number of swaps in comparison will be less***"
   ]
  },
  {
   "cell_type": "markdown",
   "metadata": {},
   "source": [
    "**Shell Sort Steps**\n",
    "\n",
    "* Shell sort uses this concept of a gap where you start with some gap \n",
    "\n",
    "* In a gap concept: get all elements kind of form a sub array.\n",
    "    - here my sub array has 3 elements 21 - 17 - 11\n",
    "    - we try to sort this sub array so see the sorting is now being performed only sub array\n",
    "\n",
    "\n",
    "   ![](pics/sh1.1.png)\n",
    "   \n",
    "   \n",
    "* And than we move from 38-4-32 sub array and sam process\n",
    "\n",
    "\n",
    "   ![](pics/sh2.png)\n",
    "   \n",
    "* Finally we have 3 gap iteration: we have unsorted array:\n",
    "\n",
    "   ![](pics/sh3..png)\n",
    "   \n",
    "   \n",
    "* ***But be careful that  all the heavier elements in the right side, so now when you will do insertion short on this array you will have less comparison and swaps.***\n",
    "\n",
    "\n",
    "* ***By the way our end goal is to reach to state gap of 1.***\n",
    "\n",
    "* If we look gap 2:\n",
    "\n",
    "   \n",
    "   ![](pics/sh4.png)\n",
    "\n",
    "\n",
    "* And finally we need to last step will be gap of one and **gap 1 means it is  an insertion sort**\n",
    "\n",
    "\n",
    "   ![](pics/sh5.png)\n",
    "   \n",
    "***GENERAL ALGORITHM***\n",
    "\n",
    "![](pics/sh6.png)\n",
    "   "
   ]
  },
  {
   "cell_type": "markdown",
   "metadata": {},
   "source": [
    "### ***Insertion Sort Implementation***"
   ]
  },
  {
   "cell_type": "code",
   "execution_count": 1,
   "metadata": {},
   "outputs": [
    {
     "name": "stdout",
     "output_type": "stream",
     "text": [
      "[4, 9, 11, 17, 21, 25, 29, 32, 38]\n"
     ]
    }
   ],
   "source": [
    "def shell_sort(arr):\n",
    "    size = len(arr)\n",
    "    gap = size // 2 \n",
    "    while gap > 0:\n",
    "        for i in range(gap, size):  # we start with element of 17 \n",
    "            anchor = arr[i]\n",
    "            j = i \n",
    "            while j >= gap and arr[j - gap] > anchor:\n",
    "                arr[j] = arr[j - gap]\n",
    "                j -= gap \n",
    "            arr[j] = anchor\n",
    "        gap = gap // 2 \n",
    "\n",
    "if __name__ == \"__main__\":\n",
    "    elements = [21, 38, 29, 17, 4, 25, 11, 32, 9]\n",
    "    shell_sort(elements)\n",
    "    print(elements)\n"
   ]
  },
  {
   "cell_type": "markdown",
   "metadata": {},
   "source": [
    "### ***Big-O Analysis***\n",
    " \n",
    " \n",
    "![](pics/x.png)\n"
   ]
  },
  {
   "cell_type": "markdown",
   "metadata": {},
   "source": [
    "\n",
    "![](pics/sh_ex.png)\n"
   ]
  },
  {
   "cell_type": "code",
   "execution_count": 1,
   "metadata": {},
   "outputs": [
    {
     "name": "stdout",
     "output_type": "stream",
     "text": [
      "\n",
      "[0, 1, 2, 3, 5, 7, 8, 9]\n"
     ]
    }
   ],
   "source": [
    "def shell_sort(arr):\n",
    "    size = len(arr)\n",
    "    div = 2\n",
    "    gap = size // div \n",
    "    \n",
    "    while gap > 0:\n",
    "        index_to_delete = []\n",
    "        \n",
    "        for i in range(gap, size):  # we start with element of 17 \n",
    "            # print(arr)\n",
    "            anchor = arr[i]\n",
    "            j = i \n",
    "            while j >= gap and arr[j - gap] >= anchor:\n",
    "                if arr[j - gap] == anchor:\n",
    "                    index_to_delete.append(j)\n",
    "                arr[j] = arr[j - gap]\n",
    "                j -= gap \n",
    "            arr[j] = anchor\n",
    "        # print(arr)\n",
    "        \n",
    "        index_to_delete = list(set(index_to_delete))\n",
    "        index_to_delete.sort()\n",
    "        index_to_delete.reverse()\n",
    "        # print(gap)\n",
    "        # print(index_to_delete)\n",
    "\n",
    "        if index_to_delete:\n",
    "            for i in index_to_delete:\n",
    "                del arr[i]\n",
    "\n",
    "        size = len(arr)\n",
    "        div *= 2\n",
    "        gap = size // div \n",
    "        # print(arr)\n",
    "        # print()\n",
    "\n",
    "if __name__ == \"__main__\":\n",
    "    elements = [2, 1, 5, 7, 2, 0, 5, 1, 2, 9, 5, 8, 3]\n",
    "    shell_sort(elements)\n",
    "    print()\n",
    "    print(elements)\n",
    " "
   ]
  },
  {
   "cell_type": "code",
   "execution_count": null,
   "metadata": {},
   "outputs": [],
   "source": []
  },
  {
   "cell_type": "code",
   "execution_count": null,
   "metadata": {},
   "outputs": [],
   "source": []
  }
 ],
 "metadata": {
  "kernelspec": {
   "display_name": "Python 3.7.6 64-bit",
   "language": "python",
   "name": "python376jvsc74a57bd0866d5841430c3d306be85ba8ea18c03bcd6daa2993a269ebe1bd3ffce43e06f1"
  },
  "language_info": {
   "codemirror_mode": {
    "name": "ipython",
    "version": 3
   },
   "file_extension": ".py",
   "mimetype": "text/x-python",
   "name": "python",
   "nbconvert_exporter": "python",
   "pygments_lexer": "ipython3",
   "version": "3.7.6"
  }
 },
 "nbformat": 4,
 "nbformat_minor": 4
}

{
 "cells": [
  {
   "cell_type": "markdown",
   "metadata": {},
   "source": [
    "## **Quick Sort**"
   ]
  },
  {
   "cell_type": "markdown",
   "metadata": {},
   "source": [
    "### ***Basic Theory of Quick Sort***"
   ]
  },
  {
   "cell_type": "markdown",
   "metadata": {},
   "source": [
    "**We have list of the numbers to sort:**\n",
    "\n",
    "**[11, 9, 29, 7, 2, 15, 28]**\n",
    "\n",
    "* Here the first element is 11 and we will call that ***pivot***:\n",
    "\n",
    "![](pics/q1.png)\n",
    "\n",
    "\n",
    "**We will try to put pivot in it's correct position, what is correct ?:**\n",
    "\n",
    "* All the elements on the left handside of pivot-11 are smaller than 11,\n",
    "\n",
    "* All the elements on the right handside of pivot-11 greater than 11. Correct position look like :\n",
    "\n",
    "![](pics/q2.png)\n",
    "\n",
    "* Now if we look at left side is not sorted and also right side is the same.\n",
    "\n",
    "* But we are making sure is: every_single_left_element < pivot < every_sinle_right_element and once pivot 11 elements is in its correct position which means it is sorted now.\n",
    "\n",
    "**Actually we created two part left and right partititons**:\n",
    "\n",
    "**1 -- LEFT**\n",
    "\n",
    "Inıtially we will focus on left side. In left side we repeat same process imagine we have an array of **[7,9,2]**\n",
    "\n",
    "* First element we will consider it as a ***pivot : 7***\n",
    "   \n",
    "\n",
    "![](pics/q3.png)\n",
    "   \n",
    "   \n",
    "* And then we try to put its correct position in the same left - right rule.\n",
    "    \n",
    "\n",
    "![](pics/q4.png)\n",
    "\n",
    "    \n",
    "* Now we have two arrays left array **[2]** and right array **[9]**.\n",
    "\n",
    "\n",
    "When we have only single elements they are kind of sorted so now we can say that left side is sorted.\n",
    "\n",
    "![](pics/q5.png)\n",
    "\n",
    "\n",
    "***NOTE: By the way for now we ASSUME we have some way of putting this pivot element into its correct position.*** \n",
    "\n",
    "\n",
    "\n",
    "**2 -- RIGHT** \n",
    "\n",
    "Now we will focus on right side. we repeat same process imagine we have an array of **[29,15,28]**\n",
    "\n",
    "* First element we will consider it as a ***pivot : 29***\n",
    "   \n",
    "\n",
    "![](pics/q6.png)\n",
    "   \n",
    "   \n",
    "* And then we try to put its correct position in the same left right rule.\n",
    "    \n",
    "\n",
    "![](pics/q7.png)\n",
    "\n",
    "    \n",
    "* Now we have two arrays left array **[28,15]** and rightt array **[]**.\n",
    "\n",
    "\n",
    "Again we repeat same process recursively, because we have not only single elemnts:\n",
    "\n",
    "* First element we will consider it as a ***pivot : 28***\n",
    "\n",
    "![](pics/q9.png)\n",
    "\n",
    "* And then we try to put its correct position in the same left right rule.\n",
    "\n",
    "![](pics/q11.png)\n",
    "\n",
    "* Now it in the correct positiion and we have left only single element **[15]** right is not have any element.\n",
    "\n",
    "\n",
    "\n",
    "***Finally Array is Sorted***\n",
    "\n",
    "![](pics/q12.png)\n"
   ]
  },
  {
   "cell_type": "markdown",
   "metadata": {},
   "source": [
    "**Now we going back to:**"
   ]
  },
  {
   "cell_type": "markdown",
   "metadata": {},
   "source": [
    "### ***How We Can Put a Pivot Correct Position ?***"
   ]
  },
  {
   "cell_type": "markdown",
   "metadata": {},
   "source": [
    "![](pics/q13.png)\n",
    "\n",
    "* You are creating essentially two partittions left and right.\n",
    "\n",
    "![](pics/q14.png)"
   ]
  },
  {
   "cell_type": "markdown",
   "metadata": {},
   "source": [
    "### **1 - Hoare Partition**"
   ]
  },
  {
   "cell_type": "markdown",
   "metadata": {},
   "source": [
    "In here we come up with two pointers start and end so pivot is leftmost look like:\n",
    "\n",
    "![](pics/h1.png)\n",
    "\n",
    "**Lets focus on start pointer:**\n",
    "   \n",
    "   * We will keep on moving start pointer until find an element which is greater than 11.\n",
    "   \n",
    "   * So we are going through this elements one by one ***comparing them with pivot***\n",
    "   \n",
    "   * We reach 29 and for greater than pivot we stop here \n",
    "   \n",
    "![](pics/h2.png)\n",
    "\n",
    "\n",
    "**Now focus on end pointer:**\n",
    "   \n",
    "   * We will keep on reduving end pointer till we find an element which is less than 11.\n",
    "   \n",
    "   * So we are going through this elements one by one ***comparing them with pivot 11***\n",
    "      \n",
    "![](pics/h3.png) \n",
    "   \n",
    "   * Is 28 less than 11? no -> so lets move\n",
    "   \n",
    "![](pics/h4.png) \n",
    "\n",
    "   * Is 15 less than 11? no -> so lets move\n",
    "   \n",
    "![](pics/h6.png) \n",
    "   \n",
    "   * Is 2 less than 11? no -> So stopped!\n",
    "   \n",
    "**Now start and end pointers are stoped.**\n",
    "\n",
    "* We found on the left hand side element which is greater than 11, our right handside element which is less than 11\n",
    "\n",
    "* So we can literally swap them because the entire purpose of quick sort is you want to put pivot which is 11 in a place where leftside is all less elements and right side is greate which is 11.\n",
    "\n",
    "![](pics/h7.png) \n",
    "\n",
    "\n",
    "**Now start the same process :**\n",
    "\n",
    "* Start the startpointer move from 2 to 7 beacause 7 is still less then 11\n",
    "\n",
    "\n",
    " ![](pics/h9.png) \n",
    "\n",
    "\n",
    "* move it one move so remember the startpointer will keep on moving until you find an elememnt which is greater then 11\n",
    "\n",
    "* 29 is greater than eleven so now i will stop my startpointer \n",
    "\n",
    "\n",
    " ![](pics/H.png) \n",
    "\n",
    "\n",
    "* lets do the iteration for endpointer. what is the rule for endpointer ? \n",
    "\n",
    "    * The element 29 is greater then 11 so then move\n",
    "\n",
    "   ![](pics/h10.png) \n",
    "\n",
    "\n",
    "**Now we stop this process whenever endpointer will cross the start and when you stop at that time swap  end pointer and pivot**\n",
    "\n",
    "   ![](pics/H11.png) \n",
    "   \n",
    "***NOW 11 PIVOT IS IN THE CORRECT PLACE.***"
   ]
  },
  {
   "cell_type": "markdown",
   "metadata": {},
   "source": [
    "### **2 - Lomuto Partition**"
   ]
  },
  {
   "cell_type": "markdown",
   "metadata": {},
   "source": [
    "The way this work is :\n",
    " \n",
    " * Decide end element as a pivot.\n",
    "\n",
    " * Then start element which is pivot 28, the called it p index (partition index).\n",
    " \n",
    " \n",
    "  ![](pics/l.png)\n",
    " \n",
    " \n",
    " * And keep on moving partition till you find the element which is greater than pivot 28, and if find stopped now.\n",
    " \n",
    " \n",
    "   ![](pics/l1.png)\n",
    "\n",
    "\n",
    " * We start another counter called i , that counter starts with p index so i counter initially is same as p index and it will keep on moving until it finds the elements less than pivot 28 \n",
    " \n",
    "  ![](pics/l2.png)\n",
    "  \n",
    " * And if it find stopped and swapping p index and i counter. \n",
    " \n",
    "  \n",
    "  ![](pics/l3.png)\n",
    "  \n",
    "  \n",
    " * And same process repeating this rules : we have in start in p in index keep on moving till find element which is greater than pivot  28\n",
    " \n",
    "  \n",
    "  ![](pics/l4.png)\n",
    "  \n",
    "  * Look into i counter the rule is i conter :  it will keep on moving until it finds the elements less than pivot 28, so move\n",
    "  \n",
    "  \n",
    "  ![](pics/l5.png)\n",
    "  \n",
    "  \n",
    "  * And if it find stopped and swapping p index and i counter. \n",
    " \n",
    "  \n",
    "  ![](pics/l6.png)\n",
    "  \n",
    "  \n",
    "* Repeat this process until the pivot 28 is in the correct position.\n",
    "\n",
    "   ![](pics/lf.png)\n",
    "   \n",
    "   \n",
    "***NOW 28 PIVOT IS IN THE CORRECT PLACE.***   "
   ]
  },
  {
   "cell_type": "markdown",
   "metadata": {},
   "source": [
    "### ***Big-O Analysis***\n",
    "    \n",
    "![](pics/BOL.png)\n",
    "\n",
    "* **Avarage time complexity** : Think about that if you are partitioning in less equal **every time source space left hand side and right hand side reduced by 2 (divide & conquer)**, for this reason : ***O(nlogn)***\n",
    "\n",
    "\n",
    "* **Worst case time complexity** : when list is already sorted because, we will **create very imbalanced paritition** which is we will either left partition or right partition and we are not really efectively reducing search space so for **each element we are performing n iteration with n element** , for this reason : ***O(n^2)***\n",
    " "
   ]
  },
  {
   "cell_type": "markdown",
   "metadata": {},
   "source": [
    "### ***Quick Sort Implementation***"
   ]
  },
  {
   "cell_type": "code",
   "execution_count": null,
   "metadata": {},
   "outputs": [],
   "source": []
  },
  {
   "cell_type": "markdown",
   "metadata": {},
   "source": [
    "![](pics/se.png)\n",
    "![](pics/se1.png)"
   ]
  },
  {
   "cell_type": "markdown",
   "metadata": {},
   "source": [
    "### ***Solution*** "
   ]
  },
  {
   "cell_type": "code",
   "execution_count": null,
   "metadata": {},
   "outputs": [],
   "source": []
  },
  {
   "cell_type": "code",
   "execution_count": null,
   "metadata": {},
   "outputs": [],
   "source": []
  }
 ],
 "metadata": {
  "kernelspec": {
   "display_name": "Python 3.7.6 64-bit",
   "language": "python",
   "name": "python376jvsc74a57bd0866d5841430c3d306be85ba8ea18c03bcd6daa2993a269ebe1bd3ffce43e06f1"
  },
  "language_info": {
   "codemirror_mode": {
    "name": "ipython",
    "version": 3
   },
   "file_extension": ".py",
   "mimetype": "text/x-python",
   "name": "python",
   "nbconvert_exporter": "python",
   "pygments_lexer": "ipython3",
   "version": "3.7.6"
  }
 },
 "nbformat": 4,
 "nbformat_minor": 4
}

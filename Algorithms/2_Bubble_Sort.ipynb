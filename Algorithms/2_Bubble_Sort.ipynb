{
 "cells": [
  {
   "cell_type": "markdown",
   "metadata": {},
   "source": [
    "## **Bubble Sort**"
   ]
  },
  {
   "cell_type": "markdown",
   "metadata": {},
   "source": [
    "### ***Basic Theory of Buble Sort***"
   ]
  },
  {
   "cell_type": "markdown",
   "metadata": {},
   "source": [
    "* Begin by comparing two numbers\n",
    "\n",
    "* If first is greater than second swap it \n",
    "\n",
    "* Repeat this process for all alaments pairs in sequence keep on doing until the hghest number go towards the end.\n",
    "\n",
    "\n",
    "\n",
    "![](pics/s2.png)\n",
    "\n",
    "\n",
    "\n",
    "* **And the all of this cycle keep on doing until the all elements in sorted.**\n",
    "\n",
    "\n",
    "\n",
    "\n",
    "**Example (real life):**\n",
    "\n",
    "\n",
    "Imagıne electronic store where the data of electronic tools are stores in a list.\n",
    "\n",
    "\n",
    "* Maybe we need to sort this data by the amount. \n",
    "\n",
    "* Also I want to know who bought the maximum amount of inventory from my store.\n",
    "\n",
    "* Sometimes I might want to sorted based on name.\n",
    "\n",
    "* So sorting is very common use case when you are doing software development.\n",
    "\n",
    "* Bubble Sort is one of the sorting techniques.\n",
    "\n",
    "\n",
    "![](pics/s1.png)"
   ]
  },
  {
   "cell_type": "markdown",
   "metadata": {},
   "source": [
    "### ***Big-O Analysis Compare***\n",
    "\n",
    "* If we keep on doing the algorithm that in the  basic theory section, process for as many time as there are elements in the list. We will get my whole list sorted.\n",
    "\n",
    "\n",
    "* If you think about it, we dont need to do it n times (size of array), we need to do it only n-1 time.\n",
    "\n",
    "\n",
    "* We have to do this for loop for all elements and then within that for loop every time we are comparing two consecutive elements and running the second for loop throughout the list so you have two for loops running.\n",
    "\n",
    "\n",
    "For this reason \n",
    "\n",
    "    \n",
    "    \n",
    "![](pics/s3.png)"
   ]
  },
  {
   "cell_type": "markdown",
   "metadata": {},
   "source": [
    "### ***Bubble Sort Implementation***"
   ]
  },
  {
   "cell_type": "code",
   "execution_count": 22,
   "metadata": {},
   "outputs": [
    {
     "name": "stdout",
     "output_type": "stream",
     "text": [
      "[7, 10, 20, 30, 40, 50]\n",
      "['aaa', 'bbbb', 'cccc', 'dddd']\n"
     ]
    }
   ],
   "source": [
    "def bubble_sort(elements):\n",
    "    size = len(elements)\n",
    "    \n",
    "    for i in range(size-1):\n",
    "        swapped = False\n",
    "        \n",
    "        for j in range(size-1-i):     # already sorted elements is ignored with -i | in this waywe have save the run time\n",
    "            if elements[j] > elements[j+1]:\n",
    "                temp = elements[j]\n",
    "                elements[j] = elements[j+1]\n",
    "                elements[j+1] = temp \n",
    "                swapped = True\n",
    "         \"\"\"\n",
    "        if we have already sorted all list \n",
    "            * there a way to detect that array sorted: \n",
    "                * in inner loop if you go through the entire list \n",
    "                * if you dont end up swapping any element it means your array sorted\n",
    "         \"\"\"       \n",
    "\n",
    "        if not swapped:      # already sorted\n",
    "            break \n",
    "            \n",
    "    return elements\n",
    "        \n",
    "if __name__ == \"__main__\":\n",
    "\n",
    "    numbers = [50, 10, 20, 40, 30, 7]\n",
    "    res = bubble_sort(numbers)\n",
    "    print(res)\n",
    "    \n",
    "    elements = [\"aaa\",\"dddd\",\"cccc\",\"bbbb\"]\n",
    "    res = bubble_sort(elements)\n",
    "    print(res)"
   ]
  },
  {
   "cell_type": "markdown",
   "metadata": {},
   "source": [
    "***NOTE***: In this implementation we create some optimization with ignore the already sorted pairs inner loop and detect to swap flag list in out loop.\n",
    "\n",
    "For this reason **for SORTED LIST**:\n",
    "   * **Big-O complexity is : 0(n)**\n",
    " "
   ]
  },
  {
   "cell_type": "markdown",
   "metadata": {},
   "source": [
    "![](pics/se.png)\n",
    "![](pics/se1.png)"
   ]
  },
  {
   "cell_type": "markdown",
   "metadata": {},
   "source": [
    "### ***Solution*** "
   ]
  },
  {
   "cell_type": "code",
   "execution_count": 11,
   "metadata": {},
   "outputs": [
    {
     "name": "stdout",
     "output_type": "stream",
     "text": [
      "{'name': 'aamir', 'transaction_amount': 800, 'device': 'iphone-8'}\n",
      "{'name': 'dhaval', 'transaction_amount': 400, 'device': 'google pixel'}\n",
      "{'name': 'kathy', 'transaction_amount': 200, 'device': 'vivo'}\n",
      "{'name': 'mona', 'transaction_amount': 1000, 'device': 'iphone-10'}\n"
     ]
    }
   ],
   "source": [
    "def bubble_sort(elements, key):\n",
    "    size = len(elements)\n",
    "    \n",
    "    for i in range(size-1):\n",
    "        swapped = False\n",
    "        \n",
    "        for j in range(size-1-i):    \n",
    "            if elements[j][key] > elements[j+1][key]:\n",
    "                temp = elements[j]\n",
    "                elements[j] = elements[j+1]\n",
    "                elements[j+1] = temp \n",
    "                swapped = True\n",
    "\n",
    "        if not swapped:\n",
    "            break \n",
    "            \n",
    "#     return elements\n",
    "        \n",
    "if __name__ == '__main__':\n",
    "    \n",
    "    elements = [\n",
    "            { 'name': 'mona',   'transaction_amount': 1000, 'device': 'iphone-10'},\n",
    "            { 'name': 'dhaval', 'transaction_amount': 400,  'device': 'google pixel'},\n",
    "            { 'name': 'kathy',  'transaction_amount': 200,  'device': 'vivo'},\n",
    "            { 'name': 'aamir',  'transaction_amount': 800,  'device': 'iphone-8'},\n",
    "        ]\n",
    "    \n",
    "    bubble_sort(elements, key='name')\n",
    "    for e in elements:\n",
    "        print(e)"
   ]
  },
  {
   "cell_type": "code",
   "execution_count": null,
   "metadata": {},
   "outputs": [],
   "source": []
  },
  {
   "cell_type": "code",
   "execution_count": null,
   "metadata": {},
   "outputs": [],
   "source": []
  }
 ],
 "metadata": {
  "kernelspec": {
   "display_name": "Python 3.7.6 64-bit",
   "language": "python",
   "name": "python376jvsc74a57bd0866d5841430c3d306be85ba8ea18c03bcd6daa2993a269ebe1bd3ffce43e06f1"
  },
  "language_info": {
   "codemirror_mode": {
    "name": "ipython",
    "version": 3
   },
   "file_extension": ".py",
   "mimetype": "text/x-python",
   "name": "python",
   "nbconvert_exporter": "python",
   "pygments_lexer": "ipython3",
   "version": "3.7.6"
  }
 },
 "nbformat": 4,
 "nbformat_minor": 4
}

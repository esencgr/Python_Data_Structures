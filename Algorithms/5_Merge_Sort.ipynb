{
 "cells": [
  {
   "cell_type": "markdown",
   "metadata": {},
   "source": [
    "## **Merge Sort**"
   ]
  },
  {
   "cell_type": "markdown",
   "metadata": {},
   "source": [
    "### ***Basic Theory of Merge Sort***"
   ]
  },
  {
   "cell_type": "markdown",
   "metadata": {},
   "source": [
    "**We imagine that have two sorted array like this :**\n",
    "\n",
    "![](pics/mrg.png)\n",
    "\n",
    "And we want to merge them into one single sorted array.\n",
    "\n",
    "( ***We will talk about to merge unsorted array into one single sorted array later.*** )\n",
    "\n",
    "Now we focus :\n",
    "\n",
    "- Start with the first elements in each of this array\n",
    "    \n",
    "* Compared them \n",
    "    \n",
    "* Which is smaller put that smaller element into sorted array\n",
    "\n",
    "   ![](pics/mrg1.png)   \n",
    "   \n",
    "   \n",
    "* Right side pointer moved next element beacuse the element come right side.\n",
    "\n",
    "\n",
    "   ![](pics/mrg2.png)   \n",
    "\n",
    "\n",
    "* Now compare and put smaller into sorted array \n",
    "\n",
    "* Tthan the element come which side move pointer the next one \n",
    "\n",
    "   ![](pics/mrg3.png)\n",
    "\n",
    "* Keep on doing that get a sorted array"
   ]
  },
  {
   "cell_type": "markdown",
   "metadata": {},
   "source": [
    "**Lets go back the original problem which is  :**\n",
    "\n",
    "**We have totaly unsorted array**\n",
    "\n",
    "![](pics/mrg4.png)\n"
   ]
  },
  {
   "cell_type": "markdown",
   "metadata": {},
   "source": [
    "* We divide this into two arrays: 4-4\n",
    "\n",
    "* If we have have nine : we can do 4-5, doesnt matter.\n",
    "\n",
    "* These two array are not sorted:\n",
    "\n",
    "    ![](pics/mrg5.png)\n",
    "\n",
    "\n",
    "   * so then what if we try divide again \n",
    "   \n",
    "   \n",
    "   ![](pics/mrg6.png)\n",
    "   \n",
    "   \n",
    "   * we cannot merge because arrays are still  not sorted.\n",
    "   \n",
    "   * divide one more time, now we have all the arrays with only one element\n",
    "   \n",
    "   \n",
    "   ![](pics/mrg7.png)\n",
    "   \n",
    "   \n",
    "   * now we can merge this elements by use our technique that we learned initially and merge them.\n",
    "   \n",
    "   ![](pics/mrg8.png)\n"
   ]
  },
  {
   "cell_type": "markdown",
   "metadata": {},
   "source": [
    "### ***Merge Sort Implementation***"
   ]
  },
  {
   "cell_type": "code",
   "execution_count": 1,
   "metadata": {},
   "outputs": [
    {
     "name": "stdout",
     "output_type": "stream",
     "text": [
      "[1, 2, 5, 9, 12, 40, 56, 100]\n"
     ]
    }
   ],
   "source": [
    "def merge_sort(arr):\n",
    "    if len(arr) <= 1:\n",
    "        return arr\n",
    "\n",
    "    mid = len(arr) // 2\n",
    "    left = arr[:mid]\n",
    "    right = arr[mid:]\n",
    "\n",
    "    left = merge_sort(left)\n",
    "    right = merge_sort(right)\n",
    "\n",
    "    return merge_two_sorted_list(left, right)\n",
    "\n",
    "def merge_two_sorted_list(a, b):\n",
    "    sorted_list = []\n",
    "    len_a = len(a)\n",
    "    len_b = len(b)\n",
    "    i, j = 0, 0\n",
    "    \n",
    "    while i < len_a and j < len_b:\n",
    "        if a[i] < b[j]:\n",
    "            sorted_list.append(a[i])\n",
    "            i += 1\n",
    "        else :\n",
    "            sorted_list.append(b[j])\n",
    "            j += 1\n",
    "\n",
    "    while i < len_a:\n",
    "        sorted_list.append(a[i])\n",
    "        i += 1 \n",
    "    \n",
    "    while  j < len_b:\n",
    "        sorted_list.append(b[j])\n",
    "        j += 1 \n",
    "\n",
    "    return sorted_list\n",
    "\n",
    "if __name__ == \"__main__\":\n",
    "    arr = [9, 5, 12, 56, 1, 40, 2, 100]\n",
    "    print(merge_sort(arr))"
   ]
  },
  {
   "cell_type": "markdown",
   "metadata": {},
   "source": [
    "### ***Merge Sort Implementation With Space Optimization***"
   ]
  },
  {
   "cell_type": "code",
   "execution_count": 6,
   "metadata": {},
   "outputs": [
    {
     "name": "stdout",
     "output_type": "stream",
     "text": [
      "[3, 7, 8, 10, 15, 23, 29, 98]\n",
      "[]\n",
      "[3]\n",
      "[2, 7, 8, 9]\n",
      "[1, 2, 3, 4, 5]\n"
     ]
    }
   ],
   "source": [
    "# OPTIMIZE MEMORY USAGE\n",
    "# WE WRITE ON ORIGINAL ARRAY\n",
    "\n",
    "def merge_sort(arr):\n",
    "    if len(arr) <= 1:\n",
    "        return arr\n",
    "\n",
    "    mid = len(arr) // 2\n",
    "    left = arr[:mid]\n",
    "    right = arr[mid:]\n",
    "\n",
    "    merge_sort(left)\n",
    "    merge_sort(right)\n",
    "    merge_two_sorted_list(left, right, arr)\n",
    "\n",
    "def merge_two_sorted_list(a, b, arr):\n",
    "    len_a = len(a)\n",
    "    len_b = len(b)\n",
    "    i, j, k = 0, 0, 0\n",
    "    \n",
    "    while i < len_a and j < len_b:\n",
    "        if a[i] < b[j]:\n",
    "            arr[k] = a[i]\n",
    "            i += 1\n",
    "        else:\n",
    "            arr[k] = b[j]\n",
    "            j += 1\n",
    "        k += 1 \n",
    "\n",
    "    while i < len_a:\n",
    "        arr[k] = a[i]\n",
    "        i += 1 \n",
    "        k += 1 \n",
    "\n",
    "    while j < len_b:\n",
    "        arr[k] = b[j]\n",
    "        j += 1\n",
    "        k += 1  \n",
    "\n",
    "if __name__ == \"__main__\":\n",
    "    test_cases = [\n",
    "        [10, 3, 15, 7, 8, 23, 98, 29],\n",
    "        [],\n",
    "        [3],\n",
    "        [9,8,7,2],\n",
    "        [1,2,3,4,5]\n",
    "    ]\n",
    "\n",
    "    for arr in test_cases:\n",
    "        merge_sort(arr)\n",
    "        print(arr)"
   ]
  },
  {
   "cell_type": "markdown",
   "metadata": {},
   "source": [
    "### ***Big-O Analysis***\n",
    " \n",
    " \n",
    "![](pics/mmm.png)\n"
   ]
  },
  {
   "cell_type": "markdown",
   "metadata": {},
   "source": [
    "### EXERCISE\n",
    "![](pics/merex.png)\n",
    " \n",
    "![](pics/merex1.png)"
   ]
  },
  {
   "cell_type": "code",
   "execution_count": 2,
   "metadata": {},
   "outputs": [
    {
     "name": "stdout",
     "output_type": "stream",
     "text": [
      "[{'name': 'rajab', 'age': 12, 'time_hours': 3}, {'name': 'vignesh', 'age': 21, 'time_hours': 2.5}, {'name': 'chinmay', 'age': 24, 'time_hours': 1.5}, {'name': 'vedanth', 'age': 17, 'time_hours': 1}]\n",
      "\n",
      "\n",
      "[{'name': 'chinmay', 'age': 24, 'time_hours': 1.5}, {'name': 'rajab', 'age': 12, 'time_hours': 3}, {'name': 'vedanth', 'age': 17, 'time_hours': 1}, {'name': 'vignesh', 'age': 21, 'time_hours': 2.5}]\n"
     ]
    }
   ],
   "source": [
    "def merge_sort(arr, key, descending = False):\n",
    "    if len(arr) <= 1:\n",
    "        return arr\n",
    "\n",
    "    mid = len(arr) // 2\n",
    "    left = arr[:mid]\n",
    "    right = arr[mid:]\n",
    "\n",
    "    left_list = merge_sort(left, key, descending)\n",
    "    right_list = merge_sort(right, key, descending)\n",
    "\n",
    "    return merge_two_sorted_list(left_list, right_list, key, descending)\n",
    "\n",
    "def merge_two_sorted_list(left_list, right_list, key, descending):\n",
    "    sorted_list = list()\n",
    "\n",
    "    if descending:\n",
    "        while len(left_list) > 0 and len(right_list) > 0:\n",
    "            if left_list[0][key] >= right_list[0][key]:\n",
    "                sorted_list.append(left_list.pop(0))\n",
    "            else:\n",
    "                sorted_list.append(right_list.pop(0))\n",
    "    \n",
    "    else:\n",
    "        while len(left_list) > 0 and len(right_list) > 0:\n",
    "            if left_list[0][key] <= right_list[0][key]:\n",
    "                sorted_list.append(left_list.pop(0))\n",
    "            else:\n",
    "                sorted_list.append(right_list.pop(0))\n",
    "\n",
    "    sorted_list.extend(left_list)\n",
    "    sorted_list.extend(right_list)\n",
    "\n",
    "    return sorted_list\n",
    "\n",
    "if __name__ == \"__main__\":\n",
    "    arr = [\n",
    "            { 'name': 'vedanth',   'age': 17, 'time_hours': 1},\n",
    "            { 'name': 'rajab', 'age': 12,  'time_hours': 3},\n",
    "            { 'name': 'vignesh',  'age': 21,  'time_hours': 2.5},\n",
    "            { 'name': 'chinmay',  'age': 24,  'time_hours': 1.5},\n",
    "    ]\n",
    "\n",
    "    sorted_list = merge_sort(arr, key='time_hours', descending=True)\n",
    "    print(sorted_list)\n",
    "    \n",
    "    print(\"\\n\")\n",
    "    \n",
    "    sorted_list = merge_sort(arr, key='name')\n",
    "    print(sorted_list)"
   ]
  },
  {
   "cell_type": "code",
   "execution_count": null,
   "metadata": {},
   "outputs": [],
   "source": []
  }
 ],
 "metadata": {
  "kernelspec": {
   "display_name": "Python 3.7.6 64-bit",
   "language": "python",
   "name": "python376jvsc74a57bd0866d5841430c3d306be85ba8ea18c03bcd6daa2993a269ebe1bd3ffce43e06f1"
  },
  "language_info": {
   "codemirror_mode": {
    "name": "ipython",
    "version": 3
   },
   "file_extension": ".py",
   "mimetype": "text/x-python",
   "name": "python",
   "nbconvert_exporter": "python",
   "pygments_lexer": "ipython3",
   "version": "3.7.6"
  }
 },
 "nbformat": 4,
 "nbformat_minor": 4
}

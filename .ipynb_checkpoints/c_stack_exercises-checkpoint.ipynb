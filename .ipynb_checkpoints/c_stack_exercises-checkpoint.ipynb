{
 "cells": [
  {
   "cell_type": "markdown",
   "metadata": {},
   "source": [
    "# Exercise: Stack"
   ]
  },
  {
   "cell_type": "markdown",
   "metadata": {},
   "source": [
    "## ***Exercise 1***"
   ]
  },
  {
   "cell_type": "markdown",
   "metadata": {},
   "source": [
    "**Write a function in python that can reverse a string using stack data structure. Use Stack class from the tutorial.**\n",
    "   * reverse_string(\"We will conquere COVID-19\") should return \"91-DIVOC ereuqnoc lliw eW\"\n",
    "\n"
   ]
  },
  {
   "cell_type": "markdown",
   "metadata": {},
   "source": [
    "**Version 1**"
   ]
  },
  {
   "cell_type": "code",
   "execution_count": 3,
   "metadata": {},
   "outputs": [],
   "source": [
    "from collections import deque\n",
    "\n",
    "class Stack:\n",
    "    def __init__(self):\n",
    "        self.container = deque()\n",
    "    \n",
    "    def push(self, value):\n",
    "        self.container.append(value)\n",
    "    \n",
    "    def pop(self):\n",
    "        return self.container.pop()\n",
    "\n",
    "    def size(self):\n",
    "        return len(self.container)\n",
    "    \n",
    "    def reverse_stack(self):\n",
    "        return self.container.reverse()\n",
    "\n",
    "    def reverse_string(self, s):\n",
    "        for ch in s:\n",
    "            self.container.append(ch)\n",
    "        \n",
    "        reverse_str = \"\"\n",
    "        while len(self.container) != 0:\n",
    "            reverse_str += self.container.pop()\n",
    "        \n",
    "        return reverse_str\n",
    "    \n",
    "    def show(self):\n",
    "        for i in self.container:\n",
    "            print(i)"
   ]
  },
  {
   "cell_type": "code",
   "execution_count": 13,
   "metadata": {},
   "outputs": [],
   "source": [
    "s = Stack()"
   ]
  },
  {
   "cell_type": "code",
   "execution_count": 14,
   "metadata": {
    "scrolled": true
   },
   "outputs": [
    {
     "data": {
      "text/plain": [
       "deque([])"
      ]
     },
     "execution_count": 14,
     "metadata": {},
     "output_type": "execute_result"
    }
   ],
   "source": [
    "s.container"
   ]
  },
  {
   "cell_type": "code",
   "execution_count": 15,
   "metadata": {
    "scrolled": true
   },
   "outputs": [
    {
     "name": "stdout",
     "output_type": "stream",
     "text": [
      "3\n",
      "6\n",
      "9\n"
     ]
    }
   ],
   "source": [
    "s.push(3)\n",
    "s.push(6)\n",
    "s.push(9)\n",
    "s.show()"
   ]
  },
  {
   "cell_type": "code",
   "execution_count": 16,
   "metadata": {
    "scrolled": false
   },
   "outputs": [
    {
     "data": {
      "text/plain": [
       "deque([3, 6, 9])"
      ]
     },
     "execution_count": 16,
     "metadata": {},
     "output_type": "execute_result"
    }
   ],
   "source": [
    "s.container"
   ]
  },
  {
   "cell_type": "code",
   "execution_count": 7,
   "metadata": {},
   "outputs": [
    {
     "name": "stdout",
     "output_type": "stream",
     "text": [
      "9\n",
      "6\n",
      "3\n"
     ]
    }
   ],
   "source": [
    "s.reverse_stack()\n",
    "s.show()"
   ]
  },
  {
   "cell_type": "code",
   "execution_count": 3,
   "metadata": {},
   "outputs": [],
   "source": [
    "stack = Stack()"
   ]
  },
  {
   "cell_type": "code",
   "execution_count": 4,
   "metadata": {},
   "outputs": [
    {
     "name": "stdout",
     "output_type": "stream",
     "text": [
      "91-IVOC ereuqnoc lliw eW\n"
     ]
    }
   ],
   "source": [
    "rev_str = stack.reverse_string(\"We will conquere COVI-19\")\n",
    "print(rev_str)"
   ]
  },
  {
   "cell_type": "markdown",
   "metadata": {},
   "source": [
    "**Version 2**"
   ]
  },
  {
   "cell_type": "code",
   "execution_count": 8,
   "metadata": {},
   "outputs": [
    {
     "name": "stdout",
     "output_type": "stream",
     "text": [
      "91-IVOC ereuqnoc lliw eW\n",
      "gnik eht ma I\n"
     ]
    }
   ],
   "source": [
    "from collections import deque\n",
    "\n",
    "class Stack:\n",
    "    def __init__(self):\n",
    "        self.container = deque()\n",
    "    \n",
    "    def push(self, value):\n",
    "        self.container.append(value)\n",
    "    \n",
    "    def pop(self):\n",
    "        return self.container.pop()\n",
    "    \n",
    "    def size(self):\n",
    "        return len(self.container)\n",
    "    \n",
    "    def reverse_stack(self):\n",
    "        return self.container.reverse()\n",
    "    \n",
    "    def show(self):\n",
    "        for i in self.container:\n",
    "            print(i)\n",
    "\n",
    "def reverse_string(s):\n",
    "    stack = Stack()\n",
    "    \n",
    "    for ch in s:\n",
    "        stack.push(ch)\n",
    "    \n",
    "    reverse_str = \"\"\n",
    "    while stack.size() != 0:\n",
    "        reverse_str += stack.pop()\n",
    "    \n",
    "    return reverse_str\n",
    "\n",
    "\n",
    "if __name__ == '__main__':\n",
    "    print(reverse_string(\"We will conquere COVI-19\"))\n",
    "    print(reverse_string(\"I am the king\"))"
   ]
  },
  {
   "cell_type": "markdown",
   "metadata": {},
   "source": [
    "## ***Exercise 2***"
   ]
  },
  {
   "cell_type": "markdown",
   "metadata": {},
   "source": [
    "**Write a function in python that checks if paranthesis in the string are balanced or not. Possible parantheses are \"{}',\"()\" or \"[]\". Use Stack class from the tutorial..**\n",
    "\n",
    "* is_balanced(\"({a+b})\")     --> True\n",
    "* is_balanced(\"))((a+b}{\")   --> False\n",
    "* is_balanced(\"((a+b))\")     --> True\n",
    "* is_balanced(\"))\")          --> False\n",
    "* is_balanced(\"[a+b]*(x+2y)*{gg+kk}\") --> True\n"
   ]
  },
  {
   "cell_type": "code",
   "execution_count": 11,
   "metadata": {},
   "outputs": [
    {
     "name": "stdout",
     "output_type": "stream",
     "text": [
      "True\n",
      "False\n",
      "True\n",
      "True\n",
      "False\n",
      "True\n",
      "False\n",
      "False\n"
     ]
    }
   ],
   "source": [
    "from collections import deque\n",
    "\n",
    "class Stack:\n",
    "    def __init__(self):\n",
    "        self.container = deque()\n",
    "    \n",
    "    def push(self, value):\n",
    "        self.container.append(value)\n",
    "    \n",
    "    def pop(self):\n",
    "        return self.container.pop()\n",
    "    \n",
    "    def size(self):\n",
    "        return len(self.container)\n",
    "    \n",
    "    def show(self):\n",
    "        for i in self.container:\n",
    "            print(i)\n",
    "            \n",
    "def matching(ch1, ch2):\n",
    "    match_dict = {\n",
    "        '(' : ')',\n",
    "        '[' : ']',\n",
    "        '{' : '}'\n",
    "    }\n",
    "    return match_dict[ch1] == ch2\n",
    "    \n",
    "def is_balanced(s):\n",
    "    stack = Stack()\n",
    "    for ch in s:\n",
    "        if ch == '(' or ch == '{' or ch == '[':\n",
    "            stack.push(ch)\n",
    "        if ch == ')' or ch == '}' or ch == ']':\n",
    "            if stack.size() == 0:\n",
    "                return False\n",
    "            if not matching(stack.pop(),ch):\n",
    "                return False\n",
    "            \n",
    "    return stack.size() == 0\n",
    "        \n",
    "if __name__ == '__main__':\n",
    "    print(is_balanced(\"({a+b})\"))\n",
    "    print(is_balanced(\"))((a+b}{\"))\n",
    "    print(is_balanced(\"((a+b))\"))\n",
    "    print(is_balanced(\"((a+g))\"))\n",
    "    print(is_balanced(\"))\"))\n",
    "    print(is_balanced(\"[a+b]*(x+2y)*{gg+kk}\"))\n",
    "    print(is_balanced(\"(\"))\n",
    "    print(is_balanced(\"{(([])[])[]]}\"))"
   ]
  },
  {
   "cell_type": "code",
   "execution_count": 10,
   "metadata": {},
   "outputs": [
    {
     "data": {
      "text/plain": [
       "True"
      ]
     },
     "execution_count": 10,
     "metadata": {},
     "output_type": "execute_result"
    }
   ],
   "source": [
    "def matching(ch1, ch2):\n",
    "    match_dict = {\n",
    "        '(' : ')',\n",
    "        '[' : ']',\n",
    "        '{' : '}'\n",
    "    }\n",
    "    return match_dict[ch1] ==  ch2\n",
    "\n",
    "matching('(',')')"
   ]
  },
  {
   "cell_type": "code",
   "execution_count": null,
   "metadata": {},
   "outputs": [],
   "source": []
  },
  {
   "cell_type": "code",
   "execution_count": null,
   "metadata": {},
   "outputs": [],
   "source": []
  },
  {
   "cell_type": "code",
   "execution_count": null,
   "metadata": {},
   "outputs": [],
   "source": []
  }
 ],
 "metadata": {
  "kernelspec": {
   "display_name": "Python 3.7.6 64-bit",
   "language": "python",
   "name": "python376jvsc74a57bd0866d5841430c3d306be85ba8ea18c03bcd6daa2993a269ebe1bd3ffce43e06f1"
  },
  "language_info": {
   "codemirror_mode": {
    "name": "ipython",
    "version": 3
   },
   "file_extension": ".py",
   "mimetype": "text/x-python",
   "name": "python",
   "nbconvert_exporter": "python",
   "pygments_lexer": "ipython3",
   "version": "3.7.6"
  }
 },
 "nbformat": 4,
 "nbformat_minor": 4
}

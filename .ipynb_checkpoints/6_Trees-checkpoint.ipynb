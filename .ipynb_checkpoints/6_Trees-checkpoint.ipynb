{
 "cells": [
  {
   "cell_type": "markdown",
   "metadata": {},
   "source": [
    "## **TREES**"
   ]
  },
  {
   "cell_type": "markdown",
   "metadata": {},
   "source": [
    "### ***Use Cases For Tree*** "
   ]
  },
  {
   "cell_type": "markdown",
   "metadata": {},
   "source": [
    "***#1 Imagine that building a e-commerce website for electronic items.***\n",
    "* This categories and subcategories look like that hierarchical order:"
   ]
  },
  {
   "cell_type": "markdown",
   "metadata": {},
   "source": [
    "![](images1/tree1.png)"
   ]
  },
  {
   "cell_type": "markdown",
   "metadata": {},
   "source": [
    "* ***Can not use linked list, array, stack , queue to represent this terms. Becuse thoose are linear data structures in a sequence.***\n",
    "* ***Here the information that we want to represent is in the hierarchical forms like a tree.***\n",
    "* Think that:\n",
    "    * Electronics ---> root\n",
    "    * Laptops - Cell Phones - Televisions ---> branches\n",
    "    * Macbook - Microsoft - Thinkpad - iPhone - Google - Vivo - Samsung - LG ---> leaves\n",
    "* Hence ***we use*** this data str called ***TREE*** whenever we want to keep hierarchical data information."
   ]
  },
  {
   "cell_type": "markdown",
   "metadata": {},
   "source": [
    "***#2 Another use case is folder structure on the computers.***\n",
    "* In this structure the folders have subfolders like an hierarchical order."
   ]
  },
  {
   "cell_type": "markdown",
   "metadata": {},
   "source": [
    "### ***Structure of a Tree*** "
   ]
  },
  {
   "cell_type": "markdown",
   "metadata": {},
   "source": [
    "***#1***\n",
    "In general in this diagram laptop category has subcategories as a ***children***, laptop for these three is called ***parent***.\n"
   ]
  },
  {
   "cell_type": "markdown",
   "metadata": {},
   "source": [
    "![](images1/tree2.png)"
   ]
  },
  {
   "cell_type": "markdown",
   "metadata": {},
   "source": [
    "***#2*** Also for iPhone -> Cell -> Electronics is called ***ancestors***, reverse order is called ***descendants***"
   ]
  },
  {
   "cell_type": "markdown",
   "metadata": {},
   "source": [
    "![](images1/tree3.png)"
   ]
  },
  {
   "cell_type": "markdown",
   "metadata": {},
   "source": [
    "***#3*** Another term that we use in tree data structures is levels***"
   ]
  },
  {
   "cell_type": "markdown",
   "metadata": {},
   "source": [
    "![](images1/tree4.png)"
   ]
  },
  {
   "cell_type": "markdown",
   "metadata": {},
   "source": [
    "### ***TREE IMPLEMENTATION***"
   ]
  },
  {
   "cell_type": "code",
   "execution_count": null,
   "metadata": {},
   "outputs": [],
   "source": []
  },
  {
   "cell_type": "code",
   "execution_count": null,
   "metadata": {},
   "outputs": [],
   "source": []
  },
  {
   "cell_type": "code",
   "execution_count": null,
   "metadata": {},
   "outputs": [],
   "source": []
  },
  {
   "cell_type": "code",
   "execution_count": null,
   "metadata": {},
   "outputs": [],
   "source": []
  },
  {
   "cell_type": "code",
   "execution_count": null,
   "metadata": {},
   "outputs": [],
   "source": []
  }
 ],
 "metadata": {
  "kernelspec": {
   "display_name": "Python 3.7.6 64-bit",
   "language": "python",
   "name": "python376jvsc74a57bd0866d5841430c3d306be85ba8ea18c03bcd6daa2993a269ebe1bd3ffce43e06f1"
  },
  "language_info": {
   "codemirror_mode": {
    "name": "ipython",
    "version": 3
   },
   "file_extension": ".py",
   "mimetype": "text/x-python",
   "name": "python",
   "nbconvert_exporter": "python",
   "pygments_lexer": "ipython3",
   "version": "3.7.6"
  }
 },
 "nbformat": 4,
 "nbformat_minor": 4
}

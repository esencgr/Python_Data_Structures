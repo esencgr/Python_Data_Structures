{
 "cells": [
  {
   "cell_type": "markdown",
   "metadata": {},
   "source": [
    "## **BINARY TREES**"
   ]
  },
  {
   "cell_type": "markdown",
   "metadata": {},
   "source": [
    "### ***Which Problem Does Binary Tree Solve ?*** "
   ]
  },
  {
   "cell_type": "code",
   "execution_count": 1,
   "metadata": {},
   "outputs": [
    {
     "data": {
      "text/plain": [
       "['TURKEY', 'USA', 'UK', 'USA', 'TURKEY']"
      ]
     },
     "execution_count": 1,
     "metadata": {},
     "output_type": "execute_result"
    }
   ],
   "source": [
    "countries = [\"TURKEY\", \"USA\", \"UK\", \"USA\", \"TURKEY\"]\n",
    "countries"
   ]
  },
  {
   "cell_type": "code",
   "execution_count": 2,
   "metadata": {},
   "outputs": [
    {
     "data": {
      "text/plain": [
       "{'TURKEY', 'UK', 'USA'}"
      ]
     },
     "execution_count": 2,
     "metadata": {},
     "output_type": "execute_result"
    }
   ],
   "source": [
    "countries_set = set([\"TURKEY\", \"USA\", \"UK\", \"USA\", \"TURKEY\"])\n",
    "countries_set"
   ]
  },
  {
   "cell_type": "markdown",
   "metadata": {},
   "source": [
    "* This method is called ***set and set is more like a list***.\n",
    "* Only difference between set and list that ***when insert elements in set, it makes sure that the elements are unique***.\n",
    "* The second set definition shows that if you store duplicate value in a set, it will remove the duplicates.\n",
    "\n",
    "\n",
    "***NOTE*** : ***To implement set one of the ways you can use binary search tree.***"
   ]
  },
  {
   "cell_type": "markdown",
   "metadata": {},
   "source": [
    "### ***Binary Tree && Binary Search Tree (BST)*** "
   ]
  },
  {
   "cell_type": "markdown",
   "metadata": {},
   "source": [
    "* ***Binary tree*** is a regulatory with a constraint where has at most two child nodes.\n",
    "\n",
    "* ***Binary search tree*** is a special case of binary tree, where the elements have some kind of order."
   ]
  },
  {
   "cell_type": "markdown",
   "metadata": {},
   "source": [
    "![](images1/bt1.png)"
   ]
  },
  {
   "cell_type": "markdown",
   "metadata": {},
   "source": [
    "* In here, ***all the nodes on the left-hand side a particular node less than current node.***\n",
    "    * So if selected node is 15 , if you look at this whole left tree, all the elements values are less than 15 and on the right-hand side values are greater than 15 value.\n",
    "    * And that applies the every node.\n",
    "* Another property is ***elements are not duplicated.***\n",
    "    * I fyou try to insert 27 again in this tree it will not insert the duplicate.\n",
    "    * The elements are always unique.\n",
    "* ***So this is a binary search tree.***"
   ]
  },
  {
   "cell_type": "markdown",
   "metadata": {},
   "source": [
    "### ***Traversal Approach*** "
   ]
  },
  {
   "cell_type": "markdown",
   "metadata": {},
   "source": [
    "* If you want to search through the binary search tree there are 2 approaches you can take:\n",
    "\n",
    "![](images1/bt7.png)\n",
    "\n",
    "* These are also called traversal techniques which means how to how do you traverse bst to find the element \n",
    "\n",
    "**Depth First Search**\n",
    "\n",
    "* When use this technique you are reffering  to your base node (in here 15)\n",
    "\n",
    "![](images1/bt8.png)\n",
    "\n"
   ]
  },
  {
   "cell_type": "markdown",
   "metadata": {},
   "source": [
    "***IN ORDER :*** First visit your left subtree and than base node and right subtree.\n",
    "\n",
    "***PRE ORDER :*** First visit your base node subtree and than base node and right subtree.\n",
    "\n",
    "***POST ORDER :*** First visit your left subtree and than base node and right subtree. "
   ]
  },
  {
   "cell_type": "markdown",
   "metadata": {},
   "source": [
    "### ***BINARY  SEARCH TREE IMPLEMENTATION***"
   ]
  },
  {
   "cell_type": "code",
   "execution_count": 1,
   "metadata": {},
   "outputs": [
    {
     "name": "stdout",
     "output_type": "stream",
     "text": [
      "['China', 'Germany', 'India', 'Pakistan', 'UK', 'USA']\n",
      "UK is in the list?  True\n",
      "Sweden is in the list?  False\n"
     ]
    }
   ],
   "source": [
    "# INORDER TRAVERSAL \n",
    "class BinarySearchTreeNode:\n",
    "    def __init__(self, data):\n",
    "        self.data = data\n",
    "        self.left = None\n",
    "        self.right = None\n",
    "    \n",
    "    def add_child(self, data):\n",
    "        # node already exist do nothing avooid dublicate\n",
    "        if data == self.data:\n",
    "            return           \n",
    "        \n",
    "        # add left subtree \n",
    "        if data < self.data:\n",
    "            if self.left:                        # if left node is exist add new \n",
    "                self.left.add_child(data)\n",
    "            else:                                # else not exist create node and add first left \n",
    "                self.left = BinarySearchTreeNode(data)\n",
    "        \n",
    "        # add right subtree\n",
    "        else:\n",
    "            if self.right:                        # if right node is exist add new \n",
    "                self.right.add_child(data)\n",
    "            else:                                # else not exist create node and add first right \n",
    "                self.right = BinarySearchTreeNode(data)\n",
    "    \n",
    "    def search(self, value):\n",
    "        # if value exist in the base \n",
    "        if value == self.data:\n",
    "            return True\n",
    "        \n",
    "        if value < self.data:\n",
    "        # value might be in left subtree \n",
    "            if self.left:\n",
    "                return self.left.search(value)\n",
    "            else:\n",
    "                return False\n",
    "                \n",
    "        if value > self.data:\n",
    "        # value might be in left subtree \n",
    "    \n",
    "            if self.right:\n",
    "                return self.right.search(value)\n",
    "            else:\n",
    "                return False\n",
    "\n",
    "    def inorder_traversal(self):\n",
    "        elements = [] \n",
    "        # visit left subtree \n",
    "        if self.left:\n",
    "            elements += self.left.inorder_traversal() \n",
    "        \n",
    "        # visit base node\n",
    "        elements.append(self.data)\n",
    "\n",
    "        # last visiting the right subtree subtree\n",
    "        if self.right:\n",
    "            elements += self.right.inorder_traversal() \n",
    "\n",
    "        return elements\n",
    "\n",
    "def build_tree(elements):\n",
    "    root = BinarySearchTreeNode(elements[0])\n",
    "\n",
    "    for i in range(1, len(elements)):\n",
    "        root.add_child(elements[i])\n",
    "    \n",
    "    return root \n",
    "\n",
    "if __name__ == \"__main__\":\n",
    "\n",
    "    # numbers = [17, 4, 1, 20, 9, 23, 18, 34, 34, 23, 5]     \n",
    "    # numbers_tree = build_tree(numbers)\n",
    "    \n",
    "    # print(\"\\nIn order traversal gives this sorted list:\",numbers_tree.inorder_traversal())    # print(f\"5 is in the list ? {numbers_tree.search(5)}\")\n",
    "    # print(f\"1 is in the list ? {numbers_tree.search(1)}\")\n",
    "    # print(f\"2 is in the list ? {numbers_tree.search(2)}\")\n",
    "    # print(f\"3443 is in the list ? {numbers_tree.search(3443)}\")\n",
    "\n",
    "    countries = [\"India\",\"Pakistan\",\"Germany\", \"USA\",\"China\",\"India\",\"UK\",\"USA\"]\n",
    "    country_tree = build_tree(countries)\n",
    "\n",
    "    print(country_tree.inorder_traversal())\n",
    "    print(\"UK is in the list? \", country_tree.search(\"UK\"))\n",
    "    print(\"Sweden is in the list? \", country_tree.search(\"Sweden\"))\n",
    "\n"
   ]
  },
  {
   "cell_type": "markdown",
   "metadata": {},
   "source": [
    "### ***BIG-O NOTATION BINARY TREE & BST***\n"
   ]
  },
  {
   "cell_type": "markdown",
   "metadata": {},
   "source": [
    "***SEARCHING***\n",
    "\n",
    "***Inefficient Way:*** \n",
    "\n",
    "Imagine if you had store all numbers in a **single list** for finding or searching an element might be linear complexity (search element by one by).\n",
    "\n",
    "   * Time comlexity is : ***O(n) = n*** \n",
    "   * This is inefficient way to search and insert.\n",
    "\n",
    "***Efficient way:***   \n",
    "\n",
    "Imagine if you had store all numbers in a **binary search tree** for finding or searching an element might be used this method:\n",
    "\n",
    "   * You start with root node (15)\n",
    "   * You check the value searching for is less than or greater than (less)\n",
    "   * If less you are sure that the searching value will be on the left subtree else right subtree       \n",
    "   * You pass the next node in valid subtree and do same operation until you find the value  \n",
    "   \n",
    "If you use a binary search tree like this way: every time you are reducing your search base by half : **for example**: if you decided 14 will be left-hand side tree you eliminated right side.\n",
    "\n",
    "   * Search complexity : ***O(n) = log(n)***\n",
    " \n",
    "\n",
    "![](images1/bt2.png)\n",
    "\n",
    "\n",
    "\n",
    "* If the total numer of nodes is 8 you have 3 iterations for search and find element. \n",
    "* And the 3 compared to 8 is a log to the base 2 \n",
    "\n",
    "\n",
    " \n"
   ]
  },
  {
   "cell_type": "markdown",
   "metadata": {},
   "source": [
    "***INSERTING***\n",
    "\n",
    "* Imagine if you insert number 13 in this BST:\n",
    "\n",
    "![](images1/bt3.png)\n",
    "\n",
    "* Compare with 13 < 15 so we you want to put it in left subtree, new state:\n",
    "\n",
    "![](images1/bt4.png)\n",
    "\n",
    "* Compare with 12 < 13 so we you want to put it in right subtree, new state:\n",
    "\n",
    "![](images1/bt5.png)\n",
    "\n",
    "* Compare with 13 < 14 so we you want to put it in left subtree, new state:\n",
    "\n",
    "   * Insert complexity is : ***O(n) = log(n)***\n",
    " \n",
    "\n",
    "![](images1/bt6.png)\n",
    "\n"
   ]
  },
  {
   "cell_type": "code",
   "execution_count": null,
   "metadata": {},
   "outputs": [],
   "source": []
  }
 ],
 "metadata": {
  "kernelspec": {
   "display_name": "Python 3.7.6 64-bit",
   "language": "python",
   "name": "python376jvsc74a57bd0866d5841430c3d306be85ba8ea18c03bcd6daa2993a269ebe1bd3ffce43e06f1"
  },
  "language_info": {
   "codemirror_mode": {
    "name": "ipython",
    "version": 3
   },
   "file_extension": ".py",
   "mimetype": "text/x-python",
   "name": "python",
   "nbconvert_exporter": "python",
   "pygments_lexer": "ipython3",
   "version": "3.7.6"
  }
 },
 "nbformat": 4,
 "nbformat_minor": 4
}
